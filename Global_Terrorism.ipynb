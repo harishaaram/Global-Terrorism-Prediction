{
 "cells": [
  {
   "cell_type": "markdown",
   "metadata": {},
   "source": [
    "# Global Terrorist Attacks\n",
    "\n",
    "A Journey towards understanding the [Global Terrorism Database](https://www.start.umd.edu/gtd/) with a machine learning model to predict the group responsible for the attack!\n",
    "\n",
    "### Author: Harish Gandhi Ramachandran"
   ]
  },
  {
   "cell_type": "markdown",
   "metadata": {},
   "source": [
    "### Import packages"
   ]
  },
  {
   "cell_type": "code",
   "execution_count": 1,
   "metadata": {},
   "outputs": [
    {
     "data": {
      "text/html": [
       "<script>requirejs.config({paths: { 'plotly': ['https://cdn.plot.ly/plotly-latest.min']},});if(!window.Plotly) {{require(['plotly'],function(plotly) {window.Plotly=plotly;});}}</script>"
      ],
      "text/vnd.plotly.v1+html": [
       "<script>requirejs.config({paths: { 'plotly': ['https://cdn.plot.ly/plotly-latest.min']},});if(!window.Plotly) {{require(['plotly'],function(plotly) {window.Plotly=plotly;});}}</script>"
      ]
     },
     "metadata": {},
     "output_type": "display_data"
    },
    {
     "name": "stderr",
     "output_type": "stream",
     "text": [
      "/usr/local/lib/python3.5/dist-packages/sklearn/ensemble/weight_boosting.py:29: DeprecationWarning:\n",
      "\n",
      "numpy.core.umath_tests is an internal NumPy module and should not be imported. It will be removed in a future NumPy release.\n",
      "\n"
     ]
    }
   ],
   "source": [
    "import os\n",
    "import time\n",
    "import pandas as pd\n",
    "import numpy as np\n",
    "import matplotlib.pyplot as plt\n",
    "import seaborn as sns\n",
    "\n",
    "import plotly\n",
    "import plotly.graph_objs as go\n",
    "from plotly.offline import download_plotlyjs, init_notebook_mode, plot, iplot \n",
    "init_notebook_mode(connected=True)\n",
    "import plotly.offline as offline\n",
    "import plotly.graph_objs as go\n",
    "%matplotlib inline\n",
    "\n",
    "from sklearn import preprocessing\n",
    "from sklearn.model_selection import train_test_split\n",
    "from sklearn.ensemble import RandomForestClassifier\n",
    "from sklearn.metrics import accuracy_score,precision_score,recall_score, f1_score\n",
    "\n"
   ]
  },
  {
   "cell_type": "markdown",
   "metadata": {},
   "source": [
    "## Exploratory Data Analysis\n",
    "\n",
    "Data is available from 1970 to 2017 except the 1993 data(which is available seperately). So we need to merge it into a single dataframe structure. It is Huge dataset containing 18k rows and 135 columns. And we need to do a feature engineering(discussed latter) before applying our model on these dataset."
   ]
  },
  {
   "cell_type": "code",
   "execution_count": 2,
   "metadata": {
    "collapsed": true
   },
   "outputs": [],
   "source": [
    "df = pd.read_excel('./GTD_0718dist/globalterrorismdb_0718dist.xlsx')\n",
    "df_1993= pd.read_excel('./GTD_0718dist/gtd1993_0718dist.xlsx')\n",
    "all_year_df = pd.concat([df, df_1993],ignore_index=True)"
   ]
  },
  {
   "cell_type": "code",
   "execution_count": 3,
   "metadata": {},
   "outputs": [
    {
     "data": {
      "text/plain": [
       "(182438, 135)"
      ]
     },
     "execution_count": 3,
     "metadata": {},
     "output_type": "execute_result"
    }
   ],
   "source": [
    "all_year_df.shape"
   ]
  },
  {
   "cell_type": "code",
   "execution_count": 4,
   "metadata": {},
   "outputs": [
    {
     "data": {
      "text/html": [
       "<div>\n",
       "<table border=\"1\" class=\"dataframe\">\n",
       "  <thead>\n",
       "    <tr style=\"text-align: right;\">\n",
       "      <th></th>\n",
       "      <th>eventid</th>\n",
       "      <th>iyear</th>\n",
       "      <th>imonth</th>\n",
       "      <th>iday</th>\n",
       "      <th>approxdate</th>\n",
       "      <th>extended</th>\n",
       "      <th>resolution</th>\n",
       "      <th>country</th>\n",
       "      <th>country_txt</th>\n",
       "      <th>region</th>\n",
       "      <th>...</th>\n",
       "      <th>addnotes</th>\n",
       "      <th>scite1</th>\n",
       "      <th>scite2</th>\n",
       "      <th>scite3</th>\n",
       "      <th>dbsource</th>\n",
       "      <th>INT_LOG</th>\n",
       "      <th>INT_IDEO</th>\n",
       "      <th>INT_MISC</th>\n",
       "      <th>INT_ANY</th>\n",
       "      <th>related</th>\n",
       "    </tr>\n",
       "  </thead>\n",
       "  <tbody>\n",
       "    <tr>\n",
       "      <th>0</th>\n",
       "      <td>197000000001</td>\n",
       "      <td>1970</td>\n",
       "      <td>7</td>\n",
       "      <td>2</td>\n",
       "      <td>NaN</td>\n",
       "      <td>0</td>\n",
       "      <td>NaN</td>\n",
       "      <td>58</td>\n",
       "      <td>Dominican Republic</td>\n",
       "      <td>2</td>\n",
       "      <td>...</td>\n",
       "      <td>NaN</td>\n",
       "      <td>NaN</td>\n",
       "      <td>NaN</td>\n",
       "      <td>NaN</td>\n",
       "      <td>PGIS</td>\n",
       "      <td>0</td>\n",
       "      <td>0</td>\n",
       "      <td>0</td>\n",
       "      <td>0</td>\n",
       "      <td>NaN</td>\n",
       "    </tr>\n",
       "    <tr>\n",
       "      <th>1</th>\n",
       "      <td>197000000002</td>\n",
       "      <td>1970</td>\n",
       "      <td>0</td>\n",
       "      <td>0</td>\n",
       "      <td>NaN</td>\n",
       "      <td>0</td>\n",
       "      <td>NaN</td>\n",
       "      <td>130</td>\n",
       "      <td>Mexico</td>\n",
       "      <td>1</td>\n",
       "      <td>...</td>\n",
       "      <td>NaN</td>\n",
       "      <td>NaN</td>\n",
       "      <td>NaN</td>\n",
       "      <td>NaN</td>\n",
       "      <td>PGIS</td>\n",
       "      <td>0</td>\n",
       "      <td>1</td>\n",
       "      <td>1</td>\n",
       "      <td>1</td>\n",
       "      <td>NaN</td>\n",
       "    </tr>\n",
       "    <tr>\n",
       "      <th>2</th>\n",
       "      <td>197001000001</td>\n",
       "      <td>1970</td>\n",
       "      <td>1</td>\n",
       "      <td>0</td>\n",
       "      <td>NaN</td>\n",
       "      <td>0</td>\n",
       "      <td>NaN</td>\n",
       "      <td>160</td>\n",
       "      <td>Philippines</td>\n",
       "      <td>5</td>\n",
       "      <td>...</td>\n",
       "      <td>NaN</td>\n",
       "      <td>NaN</td>\n",
       "      <td>NaN</td>\n",
       "      <td>NaN</td>\n",
       "      <td>PGIS</td>\n",
       "      <td>-9</td>\n",
       "      <td>-9</td>\n",
       "      <td>1</td>\n",
       "      <td>1</td>\n",
       "      <td>NaN</td>\n",
       "    </tr>\n",
       "    <tr>\n",
       "      <th>3</th>\n",
       "      <td>197001000002</td>\n",
       "      <td>1970</td>\n",
       "      <td>1</td>\n",
       "      <td>0</td>\n",
       "      <td>NaN</td>\n",
       "      <td>0</td>\n",
       "      <td>NaN</td>\n",
       "      <td>78</td>\n",
       "      <td>Greece</td>\n",
       "      <td>8</td>\n",
       "      <td>...</td>\n",
       "      <td>NaN</td>\n",
       "      <td>NaN</td>\n",
       "      <td>NaN</td>\n",
       "      <td>NaN</td>\n",
       "      <td>PGIS</td>\n",
       "      <td>-9</td>\n",
       "      <td>-9</td>\n",
       "      <td>1</td>\n",
       "      <td>1</td>\n",
       "      <td>NaN</td>\n",
       "    </tr>\n",
       "    <tr>\n",
       "      <th>4</th>\n",
       "      <td>197001000003</td>\n",
       "      <td>1970</td>\n",
       "      <td>1</td>\n",
       "      <td>0</td>\n",
       "      <td>NaN</td>\n",
       "      <td>0</td>\n",
       "      <td>NaN</td>\n",
       "      <td>101</td>\n",
       "      <td>Japan</td>\n",
       "      <td>4</td>\n",
       "      <td>...</td>\n",
       "      <td>NaN</td>\n",
       "      <td>NaN</td>\n",
       "      <td>NaN</td>\n",
       "      <td>NaN</td>\n",
       "      <td>PGIS</td>\n",
       "      <td>-9</td>\n",
       "      <td>-9</td>\n",
       "      <td>1</td>\n",
       "      <td>1</td>\n",
       "      <td>NaN</td>\n",
       "    </tr>\n",
       "  </tbody>\n",
       "</table>\n",
       "<p>5 rows × 135 columns</p>\n",
       "</div>"
      ],
      "text/plain": [
       "        eventid  iyear  imonth  iday approxdate  extended resolution  country  \\\n",
       "0  197000000001   1970       7     2        NaN         0        NaN       58   \n",
       "1  197000000002   1970       0     0        NaN         0        NaN      130   \n",
       "2  197001000001   1970       1     0        NaN         0        NaN      160   \n",
       "3  197001000002   1970       1     0        NaN         0        NaN       78   \n",
       "4  197001000003   1970       1     0        NaN         0        NaN      101   \n",
       "\n",
       "          country_txt  region   ...    addnotes scite1 scite2  scite3  \\\n",
       "0  Dominican Republic       2   ...         NaN    NaN    NaN     NaN   \n",
       "1              Mexico       1   ...         NaN    NaN    NaN     NaN   \n",
       "2         Philippines       5   ...         NaN    NaN    NaN     NaN   \n",
       "3              Greece       8   ...         NaN    NaN    NaN     NaN   \n",
       "4               Japan       4   ...         NaN    NaN    NaN     NaN   \n",
       "\n",
       "   dbsource  INT_LOG  INT_IDEO INT_MISC INT_ANY  related  \n",
       "0      PGIS        0         0        0       0      NaN  \n",
       "1      PGIS        0         1        1       1      NaN  \n",
       "2      PGIS       -9        -9        1       1      NaN  \n",
       "3      PGIS       -9        -9        1       1      NaN  \n",
       "4      PGIS       -9        -9        1       1      NaN  \n",
       "\n",
       "[5 rows x 135 columns]"
      ]
     },
     "execution_count": 4,
     "metadata": {},
     "output_type": "execute_result"
    }
   ],
   "source": [
    "all_year_df.head()"
   ]
  },
  {
   "cell_type": "code",
   "execution_count": 5,
   "metadata": {
    "collapsed": true
   },
   "outputs": [],
   "source": [
    "def label_percent(feature):\n",
    "    percent = []\n",
    "    total_items = sum(all_year_df[feature].value_counts())\n",
    "    for each_value in all_year_df[feature].value_counts():\n",
    "        percent.append(round(100*each_value / total_items,2))\n",
    "    \n",
    "    return percent"
   ]
  },
  {
   "cell_type": "code",
   "execution_count": 6,
   "metadata": {
    "collapsed": true
   },
   "outputs": [],
   "source": [
    "df_usa = all_year_df[all_year_df['country'] == 217]#usa country code"
   ]
  },
  {
   "cell_type": "code",
   "execution_count": 7,
   "metadata": {},
   "outputs": [
    {
     "data": {
      "application/vnd.plotly.v1+json": {
       "data": [
        {
         "line": {
          "color": "rgb(200,0,0)",
          "width": 3
         },
         "mode": "lines",
         "name": "World",
         "opacity": 0.8,
         "type": "scatter",
         "x": [
          1970,
          1971,
          1972,
          1973,
          1974,
          1975,
          1976,
          1977,
          1978,
          1979,
          1980,
          1981,
          1982,
          1983,
          1984,
          1985,
          1986,
          1987,
          1988,
          1989,
          1990,
          1991,
          1992,
          1993,
          1994,
          1995,
          1996,
          1997,
          1998,
          1999,
          2000,
          2001,
          2002,
          2003,
          2004,
          2005,
          2006,
          2007,
          2008,
          2009,
          2010,
          2011,
          2012,
          2013,
          2014,
          2015,
          2016,
          2017
         ],
         "y": [
          651,
          471,
          568,
          473,
          581,
          740,
          923,
          1319,
          1526,
          2662,
          2662,
          2586,
          2544,
          2870,
          3495,
          2915,
          2860,
          3183,
          3721,
          4324,
          3887,
          4683,
          5071,
          747,
          3456,
          3081,
          3058,
          3197,
          934,
          1395,
          1814,
          1906,
          1333,
          1278,
          1166,
          2017,
          2758,
          3242,
          4805,
          4721,
          4826,
          5076,
          8522,
          12036,
          16903,
          14965,
          13587,
          10900
         ]
        },
        {
         "line": {
          "color": "rgb(0,200,0)",
          "width": 3
         },
         "mode": "lines",
         "name": "USA",
         "opacity": 0.8,
         "type": "scatter",
         "x": [
          1970,
          1971,
          1972,
          1973,
          1974,
          1975,
          1976,
          1977,
          1978,
          1979,
          1980,
          1981,
          1982,
          1983,
          1984,
          1985,
          1986,
          1987,
          1988,
          1989,
          1990,
          1991,
          1992,
          1993,
          1994,
          1995,
          1996,
          1997,
          1998,
          1999,
          2000,
          2001,
          2002,
          2003,
          2004,
          2005,
          2006,
          2007,
          2008,
          2009,
          2010,
          2011,
          2012,
          2013,
          2014,
          2015,
          2016,
          2017
         ],
         "y": [
          468,
          247,
          68,
          58,
          94,
          149,
          105,
          130,
          87,
          69,
          67,
          74,
          78,
          44,
          63,
          40,
          49,
          34,
          27,
          42,
          32,
          30,
          32,
          36,
          55,
          60,
          35,
          40,
          31,
          53,
          32,
          41,
          33,
          33,
          9,
          21,
          6,
          8,
          18,
          11,
          17,
          10,
          20,
          20,
          29,
          38,
          64,
          65
         ]
        }
       ],
       "layout": {
        "title": "Terrorist Attacks by Year in the world (1970-2017)",
        "titlefont": {
         "size": 25
        },
        "xaxis": {
         "rangeslider": {
          "thickness": 0.05
         },
         "showgrid": false,
         "showline": true,
         "title": "Year"
        },
        "yaxis": {
         "showgrid": false,
         "showline": true,
         "title": "Number of Occurences"
        }
       }
      },
      "text/html": [
       "<div id=\"921a5bb8-9fd8-4cfd-ae59-8888d9ca284d\" style=\"height: 525px; width: 100%;\" class=\"plotly-graph-div\"></div><script type=\"text/javascript\">require([\"plotly\"], function(Plotly) { window.PLOTLYENV=window.PLOTLYENV || {};window.PLOTLYENV.BASE_URL=\"https://plot.ly\";Plotly.newPlot(\"921a5bb8-9fd8-4cfd-ae59-8888d9ca284d\", [{\"opacity\": 0.8, \"line\": {\"color\": \"rgb(200,0,0)\", \"width\": 3}, \"mode\": \"lines\", \"y\": [651, 471, 568, 473, 581, 740, 923, 1319, 1526, 2662, 2662, 2586, 2544, 2870, 3495, 2915, 2860, 3183, 3721, 4324, 3887, 4683, 5071, 747, 3456, 3081, 3058, 3197, 934, 1395, 1814, 1906, 1333, 1278, 1166, 2017, 2758, 3242, 4805, 4721, 4826, 5076, 8522, 12036, 16903, 14965, 13587, 10900], \"name\": \"World\", \"x\": [1970, 1971, 1972, 1973, 1974, 1975, 1976, 1977, 1978, 1979, 1980, 1981, 1982, 1983, 1984, 1985, 1986, 1987, 1988, 1989, 1990, 1991, 1992, 1993, 1994, 1995, 1996, 1997, 1998, 1999, 2000, 2001, 2002, 2003, 2004, 2005, 2006, 2007, 2008, 2009, 2010, 2011, 2012, 2013, 2014, 2015, 2016, 2017], \"type\": \"scatter\"}, {\"opacity\": 0.8, \"line\": {\"color\": \"rgb(0,200,0)\", \"width\": 3}, \"mode\": \"lines\", \"y\": [468, 247, 68, 58, 94, 149, 105, 130, 87, 69, 67, 74, 78, 44, 63, 40, 49, 34, 27, 42, 32, 30, 32, 36, 55, 60, 35, 40, 31, 53, 32, 41, 33, 33, 9, 21, 6, 8, 18, 11, 17, 10, 20, 20, 29, 38, 64, 65], \"name\": \"USA\", \"x\": [1970, 1971, 1972, 1973, 1974, 1975, 1976, 1977, 1978, 1979, 1980, 1981, 1982, 1983, 1984, 1985, 1986, 1987, 1988, 1989, 1990, 1991, 1992, 1993, 1994, 1995, 1996, 1997, 1998, 1999, 2000, 2001, 2002, 2003, 2004, 2005, 2006, 2007, 2008, 2009, 2010, 2011, 2012, 2013, 2014, 2015, 2016, 2017], \"type\": \"scatter\"}], {\"xaxis\": {\"title\": \"Year\", \"showgrid\": false, \"showline\": true, \"rangeslider\": {\"thickness\": 0.05}}, \"yaxis\": {\"title\": \"Number of Occurences\", \"showgrid\": false, \"showline\": true}, \"titlefont\": {\"size\": 25}, \"title\": \"Terrorist Attacks by Year in the world (1970-2017)\"}, {\"showLink\": true, \"linkText\": \"Export to plot.ly\"})});</script>"
      ],
      "text/vnd.plotly.v1+html": [
       "<div id=\"921a5bb8-9fd8-4cfd-ae59-8888d9ca284d\" style=\"height: 525px; width: 100%;\" class=\"plotly-graph-div\"></div><script type=\"text/javascript\">require([\"plotly\"], function(Plotly) { window.PLOTLYENV=window.PLOTLYENV || {};window.PLOTLYENV.BASE_URL=\"https://plot.ly\";Plotly.newPlot(\"921a5bb8-9fd8-4cfd-ae59-8888d9ca284d\", [{\"opacity\": 0.8, \"line\": {\"color\": \"rgb(200,0,0)\", \"width\": 3}, \"mode\": \"lines\", \"y\": [651, 471, 568, 473, 581, 740, 923, 1319, 1526, 2662, 2662, 2586, 2544, 2870, 3495, 2915, 2860, 3183, 3721, 4324, 3887, 4683, 5071, 747, 3456, 3081, 3058, 3197, 934, 1395, 1814, 1906, 1333, 1278, 1166, 2017, 2758, 3242, 4805, 4721, 4826, 5076, 8522, 12036, 16903, 14965, 13587, 10900], \"name\": \"World\", \"x\": [1970, 1971, 1972, 1973, 1974, 1975, 1976, 1977, 1978, 1979, 1980, 1981, 1982, 1983, 1984, 1985, 1986, 1987, 1988, 1989, 1990, 1991, 1992, 1993, 1994, 1995, 1996, 1997, 1998, 1999, 2000, 2001, 2002, 2003, 2004, 2005, 2006, 2007, 2008, 2009, 2010, 2011, 2012, 2013, 2014, 2015, 2016, 2017], \"type\": \"scatter\"}, {\"opacity\": 0.8, \"line\": {\"color\": \"rgb(0,200,0)\", \"width\": 3}, \"mode\": \"lines\", \"y\": [468, 247, 68, 58, 94, 149, 105, 130, 87, 69, 67, 74, 78, 44, 63, 40, 49, 34, 27, 42, 32, 30, 32, 36, 55, 60, 35, 40, 31, 53, 32, 41, 33, 33, 9, 21, 6, 8, 18, 11, 17, 10, 20, 20, 29, 38, 64, 65], \"name\": \"USA\", \"x\": [1970, 1971, 1972, 1973, 1974, 1975, 1976, 1977, 1978, 1979, 1980, 1981, 1982, 1983, 1984, 1985, 1986, 1987, 1988, 1989, 1990, 1991, 1992, 1993, 1994, 1995, 1996, 1997, 1998, 1999, 2000, 2001, 2002, 2003, 2004, 2005, 2006, 2007, 2008, 2009, 2010, 2011, 2012, 2013, 2014, 2015, 2016, 2017], \"type\": \"scatter\"}], {\"xaxis\": {\"title\": \"Year\", \"showgrid\": false, \"showline\": true, \"rangeslider\": {\"thickness\": 0.05}}, \"yaxis\": {\"title\": \"Number of Occurences\", \"showgrid\": false, \"showline\": true}, \"titlefont\": {\"size\": 25}, \"title\": \"Terrorist Attacks by Year in the world (1970-2017)\"}, {\"showLink\": true, \"linkText\": \"Export to plot.ly\"})});</script>"
      ]
     },
     "metadata": {},
     "output_type": "display_data"
    }
   ],
   "source": [
    "# terrorist attacks by year\n",
    "worldterror_peryear = np.asarray(all_year_df.groupby('iyear').iyear.count())\n",
    "usaterror_peryear = np.asarray(df_usa.groupby('iyear').iyear.count())\n",
    "\n",
    "terror_years = np.arange(1970, 2018)\n",
    "\n",
    "trace1 = go.Scatter(\n",
    "         x = terror_years,\n",
    "         y = worldterror_peryear,\n",
    "        name = 'World',\n",
    "         mode = 'lines',\n",
    "         line = dict(\n",
    "             color = 'rgb(200,0,0)',\n",
    "             width = 3),\n",
    "                opacity = 0.8\n",
    "         )\n",
    "\n",
    "trace2 = go.Scatter(\n",
    "         x = terror_years,\n",
    "         y = usaterror_peryear,\n",
    "    name='USA',\n",
    "         mode = 'lines',\n",
    "         line = dict(\n",
    "             color = 'rgb(0,200,0)',\n",
    "             width = 3),\n",
    "                opacity = 0.8\n",
    "         )\n",
    "\n",
    "layout = go.Layout(\n",
    "         title = 'Terrorist Attacks by Year in the world (1970-2017)',\n",
    "        titlefont = dict(size = 25),\n",
    "         xaxis = dict(title='Year',\n",
    "             rangeslider = dict(thickness = 0.05),\n",
    "             showline = True,\n",
    "             showgrid = False\n",
    "         ),\n",
    "         yaxis = dict(title='Number of Occurences',\n",
    "             showline = True,\n",
    "             showgrid = False)\n",
    "         )\n",
    "\n",
    "data = [trace1,trace2]\n",
    "figure = dict(data = data, layout = layout)\n",
    "iplot(figure)"
   ]
  },
  {
   "cell_type": "markdown",
   "metadata": {},
   "source": [
    "Note: Use your cursor to slide over the trend line to see the extact x,y value.\n",
    "\n",
    "**Inference:** The Terrorist activities has seen an increase in the 21th century.But why is there a plunge after 2004? \n",
    "\n",
    "Two Hypothesis:\n",
    "1. Hypothesis 1: Might the data collected in the 21th century is higher than - *Highly Unlikely explanation! Because the data collection procedure mentioned in the [codebook](https://www.start.umd.edu/gtd/using-gtd/) indicates the all the data collected is from the publicly available information*\n",
    "2. Hypothesis 2: Some kind war/terrorist activity started to evolve - *Let's dive in to explore it*"
   ]
  },
  {
   "cell_type": "markdown",
   "metadata": {},
   "source": [
    "## Attack by Country and Region"
   ]
  },
  {
   "cell_type": "markdown",
   "metadata": {},
   "source": [
    "Let's check which region contribute to higher terrorist attack counts."
   ]
  },
  {
   "cell_type": "code",
   "execution_count": 8,
   "metadata": {
    "collapsed": true
   },
   "outputs": [],
   "source": [
    "#Countries with country code, used for plotting in the map\n",
    "countries={'Afghanistan':'AFG',\n",
    "'Aland Islands':'ALA','Albania':'ALB','Algeria':'DZA','American Samoa':'ASM','Andorra':'AND','Angola':'AGO','Anguilla':'AIA','Antigua and Barbuda':'ATG',\n",
    "'Antarctica':'ATA','Argentina':'ARG','Armenia':'ARM','Aruba':'ABW','Australia':'AUS','Austria':'AUT','Azerbaijan':'AZE','Azerbaidjan':'AZE',\n",
    "'Bahrain':'BHR','Bahamas':'BHS','Bangladesh':'BGD','Barbados':'BRB','Belarus':'BLR',\n",
    "'Belgium':'BEL','Belize':'BLZ','Benin':'BEN','Bermuda':'BMU','Bhutan':'BTN','Bolivia':'BOL','Bosnia and Herzegovina':'BIH','Bosnia-Herzegovina':'BIH',\n",
    "'Botswana':'BWA','Bouvet Island':'BVT','Brazil':'BRA','British Virgin Islands':'VGB','British Indian Ocean Territory':'IOT',\n",
    "'Brunei':'BRN','Brunei Darussalam':'BRN','Bulgaria':'BGR','Burkina Faso':'BFA','Burma':'MMR',\n",
    "'Burundi':'BDI','Cabo Verde':'CPV','Cape Verde':'CPV','Cambodia':'KHM','Cameroon':'CMR',\n",
    "'Canada':'CAN','Cayman Islands':'CYM','Central African Republic':'CAF','Chad':'TCD','Chile':'CHL',\n",
    "'Christmas Island':'CHR','China':'CHN','Colombia':'COL','Comoros':'COM','Congo, Democratic Republic of the':'COD',\n",
    "'Congo, Republic of the':'COG','Cook Islands':'COK','Costa Rica':'CRI','Cote d\\'Ivoire':'CIV',\n",
    "\"Ivory Coast (Cote D'Ivoire)\":'CIV','Croatia':'HRV','Cuba':'CUB','Curacao':'CUW','Cyprus':'CYP',\n",
    "'Czech Republic':'CZE','Denmark':'DNK','Djibouti':'DJI','Dominica':'DMA','Dominican Republic':'DOM',\n",
    "'Ecuador':'ECU','Egypt':'EGY','El Salvador':'SLV','Equatorial Guinea':'GNQ','Eritrea':'ERI','Estonia':'EST',\n",
    "'Ethiopia':'ETH','Falkland Islands (Islas Malvinas)':'FLK','Falkland Islands':'FLK','Faroe Islands':'FRO',\n",
    "'Fiji':'FJI','Finland':'FIN','France':'FRA','French Polynesia':'PYF','Gabon':'GAB',\n",
    "'Gambia, The':'GMB','Georgia':'GEO','Germany':'DEU','Ghana':'GHA','Gibraltar':'GIB',\n",
    "'Greece':'GRC','Greenland':'GRL','Grenada':'GRD','Guam':'GUM','Guatemala':'GTM',\n",
    "'Guernsey':'GGY','Guinea-Bissau':'GNB','Guinea':'GIN','Guyana':'GUY','French Guyana':'GUY','Haiti':'HTI',\n",
    "'Honduras':'HND','Heard and McDonald Islands':'HMD','Hong Kong':'HKG','Hungary':'HUN','Iceland':'ISL',\n",
    "'India':'IND','Indonesia':'IDN','Iran':'IRN','Iraq':'IRQ','Ireland':'IRL','Isle of Man':'IMN',\n",
    "'Israel':'ISR','Italy':'ITA','Jamaica':'JAM','Japan':'JPN','Jersey':'JEY','Jordan':'JOR',\n",
    "'Kazakhstan':'KAZ','Kenya':'KEN','Kiribati':'KIR','Korea, North':'KOR','Korea, South':'PRK',\n",
    "'South Korea':'PRK','North Korea':'KOR','Kosovo':'KSV','Kuwait':'KWT','Kyrgyzstan':'KGZ',\n",
    "'Laos':'LAO','Latvia':'LVA','Lebanon':'LBN','Lesotho':'LSO','Liberia':'LBR','Libya':'LBY','Liechtenstein':'LIE',\n",
    "'Lithuania':'LTU','Luxembourg':'LUX','Macau':'MAC','Macedonia':'MKD','Madagascar':'MDG',\n",
    "'Malawi':'MWI','Malaysia':'MYS','Maldives':'MDV','Mali':'MLI','Malta':'MLT','Marshall Islands':'MHL',\n",
    "'Martinique (French)':'MTQ','Mauritania':'MRT','Mauritius':'MUS','Mexico':'MEX','Micronesia, Federated States of':'FSM',\n",
    "'Moldova':'MDA','Moldavia':'MDA','Monaco':'MCO','Mongolia':'MNG','Montenegro':'MNE','Montserrat':'MSR',\n",
    "'Morocco':'MAR','Mozambique':'MOZ','Myanmar':'MMR','Namibia':'NAM','Nepal':'NPL','Netherlands':'NLD',\n",
    "'Netherlands Antilles':'ANT','New Caledonia':'NCL','New Caledonia (French)':'NCL','New Zealand':'NZL','Nicaragua':'NIC',\n",
    "'Nigeria':'NGA','Niger':'NER','Niue':'NIU','Northern Mariana Islands':'MNP','Norway':'NOR','Oman':'OMN',\n",
    "'Pakistan':'PAK','Palau':'PLW','Panama':'PAN','Papua New Guinea':'PNG','Paraguay':'PRY','Peru':'PER',\n",
    "'Philippines':'PHL','Pitcairn Island':'PCN','Poland':'POL','Polynesia (French)':'PYF','Portugal':'PRT',\n",
    "'Puerto Rico':'PRI','Qatar':'QAT','Reunion (French)':'REU','Romania':'ROU','Russia':'RUS','Russian Federation':'RUS',\n",
    "'Rwanda':'RWA','Saint Kitts and Nevis':'KNA','Saint Lucia':'LCA','Saint Martin':'MAF','Saint Pierre and Miquelon':'SPM',\n",
    "'Saint Vincent and the Grenadines':'VCT','Saint Vincent & Grenadines':'VCT','S. Georgia & S. Sandwich Isls.':'SGS','Samoa':'WSM',\n",
    "'San Marino':'SMR','Saint Helena':'SHN','Sao Tome and Principe':'STP','Saudi Arabia':'SAU','Senegal':'SEN',\n",
    "'Serbia':'SRB','Seychelles':'SYC','Sierra Leone':'SLE','Singapore':'SGP','Sint Maarten':'SXM',\n",
    "'Slovakia':'SVK','Slovak Republic':'SVK','Slovenia':'SVN','Solomon Islands':'SLB','Somalia':'SOM','South Africa':'ZAF',\n",
    "'South Sudan':'SSD','Spain':'ESP','Sri Lanka':'LKA','Sudan':'SDN','Suriname':'SUR',\n",
    "'Swaziland':'SWZ','Sweden':'SWE','Switzerland':'CHE','Syria':'SYR','Taiwan':'TWN','Tajikistan':'TJK',\n",
    "'Tadjikistan':'TJK','Tanzania':'TZA','Thailand':'THA','Timor-Leste':'TLS','Togo':'TGO','Tonga':'TON',\n",
    "'Trinidad and Tobago':'TTO','Tunisia':'TUN','Turkey':'TUR','Turkmenistan':'TKM','Tuvalu':'TUV',\n",
    "'Uganda':'UGA','Ukraine':'UKR','United Arab Emirates':'ARE','United Kingdom':'GBR','United States':'USA',\n",
    "'U.S. Minor Outlying Islands':'UMI','Uruguay':'URY','Uzbekistan':'UZB','Vanuatu':'VUT',\n",
    "'Vatican City State':'VAT','Venezuela':'VEN','Vietnam':'VNM','Virgin Islands':'VGB',\n",
    "'Virgin Islands (USA)':'VIR','Virgin Islands (British)':'VGB','West Bank':'WBG','Yemen':'YEM',\n",
    "'Zaire':'ZAR','Zambia':'ZMB','Zimbabwe':'ZWE'}"
   ]
  },
  {
   "cell_type": "code",
   "execution_count": 9,
   "metadata": {
    "collapsed": true
   },
   "outputs": [],
   "source": [
    "codes = [countries[country] if country in countries else None for country in all_year_df.country_txt]\n",
    "all_year_df['codes'] =codes"
   ]
  },
  {
   "cell_type": "code",
   "execution_count": 10,
   "metadata": {
    "scrolled": true
   },
   "outputs": [
    {
     "data": {
      "application/vnd.plotly.v1+json": {
       "data": [
        {
         "autocolorscale": false,
         "colorbar": {
          "autotick": false,
          "title": "Scale of Attacks"
         },
         "colorscale": [
          [
           0,
           "rgb(5, 10, 172)"
          ],
          [
           0.35,
           "rgb(40, 60, 190)"
          ],
          [
           0.5,
           "rgb(70, 100, 245)"
          ],
          [
           0.6,
           "rgb(90, 120, 245)"
          ],
          [
           0.7,
           "rgb(106, 137, 247)"
          ],
          [
           1,
           "rgb(220, 220, 220)"
          ]
         ],
         "locations": [
          "IRQ",
          "PAK",
          "AFG",
          "IND",
          "COL",
          "PHL",
          "PER",
          "GBR",
          "SLV",
          "TUR",
          "SOM",
          "NGA",
          "THA",
          "YEM",
          "ESP",
          "LKA",
          "USA",
          "DZA",
          "FRA",
          "EGY",
          "LBN",
          "CHL",
          "LBY",
          "ISR",
          "SYR",
          "RUS",
          "GTM",
          "ZAF",
          "NIC",
          "UKR",
          "BGD",
          "ITA",
          "GRC",
          "NPL",
          "SDN",
          "ARG",
          "DEU",
          "IDN",
          "IRN",
          "KEN",
          "BDI",
          "MLI",
          "MMR",
          "MEX",
          "AGO",
          "JPN",
          "UGA",
          "SAU",
          "MOZ",
          "CMR",
          "HND",
          "BOL",
          "IRL",
          "VEN",
          "KHM",
          "CAF",
          "BRA",
          "CHN",
          "SSD",
          "ECU",
          "GEO",
          "HTI",
          "BHR",
          "KSV",
          "ETH",
          "TJK",
          "RWA",
          "BIH",
          "NER",
          "BEL",
          "NAM",
          "PRT",
          "SWE",
          "CYP",
          "NLD",
          "PAN",
          "AUT",
          "MKD",
          "SEN",
          "PRY",
          "AUS",
          "CHE",
          "JOR",
          "TUN",
          "SLE",
          "ZWE",
          "MYS",
          "CAN",
          "TCD",
          "PNG",
          "DOM",
          "URY",
          "ALB",
          "KWT",
          "CRI",
          "SUR",
          "ZMB",
          "TZA",
          "HRV",
          "BGR",
          "BFA",
          "TGO",
          "ZAR",
          "TWN",
          "AZE",
          "HUN",
          "DNK",
          "POL",
          "PRK",
          "JAM",
          "MAR",
          "KGZ",
          "LBR",
          "MAC",
          "CZE",
          "NCL",
          "CUB",
          "LSO",
          "LAO",
          "KAZ",
          "MDG",
          "GUY",
          "HKG",
          "GIN",
          "ARM",
          "MLT",
          "TTO",
          "DJI",
          "ARE",
          "MDV",
          "MDA",
          "UZB",
          "FIN",
          "NZL",
          "NOR",
          "GHA",
          "MRT",
          "LVA",
          "SVK",
          "EST",
          "FJI",
          "SWZ",
          "LUX",
          "BLR",
          "VNM",
          "SRB",
          "ERI",
          "BWA",
          "GNB",
          "BEN",
          "LTU",
          "BLZ",
          "GAB",
          "ROU",
          "SGP",
          "QAT",
          "SVN",
          "BTN",
          "BRN",
          "MNE",
          "GRD",
          "COM",
          "MWI",
          "BHS",
          "ISL",
          "SLB",
          "PYF",
          "BRB",
          "DMA",
          "VUT",
          "SYC",
          "TKM",
          "MUS",
          "GNQ",
          "AND",
          "ATG",
          "KOR",
          "FLK"
         ],
         "marker": {
          "line": {
           "color": "rgb(180,180,180)",
           "width": 0.5
          }
         },
         "reversescale": true,
         "text": [
          "IRQ",
          "PAK",
          "AFG",
          "IND",
          "COL",
          "PHL",
          "PER",
          "GBR",
          "SLV",
          "TUR",
          "SOM",
          "NGA",
          "THA",
          "YEM",
          "ESP",
          "LKA",
          "USA",
          "DZA",
          "FRA",
          "EGY",
          "LBN",
          "CHL",
          "LBY",
          "ISR",
          "SYR",
          "RUS",
          "GTM",
          "ZAF",
          "NIC",
          "UKR",
          "BGD",
          "ITA",
          "GRC",
          "NPL",
          "SDN",
          "ARG",
          "DEU",
          "IDN",
          "IRN",
          "KEN",
          "BDI",
          "MLI",
          "MMR",
          "MEX",
          "AGO",
          "JPN",
          "UGA",
          "SAU",
          "MOZ",
          "CMR",
          "HND",
          "BOL",
          "IRL",
          "VEN",
          "KHM",
          "CAF",
          "BRA",
          "CHN",
          "SSD",
          "ECU",
          "GEO",
          "HTI",
          "BHR",
          "KSV",
          "ETH",
          "TJK",
          "RWA",
          "BIH",
          "NER",
          "BEL",
          "NAM",
          "PRT",
          "SWE",
          "CYP",
          "NLD",
          "PAN",
          "AUT",
          "MKD",
          "SEN",
          "PRY",
          "AUS",
          "CHE",
          "JOR",
          "TUN",
          "SLE",
          "ZWE",
          "MYS",
          "CAN",
          "TCD",
          "PNG",
          "DOM",
          "URY",
          "ALB",
          "KWT",
          "CRI",
          "SUR",
          "ZMB",
          "TZA",
          "HRV",
          "BGR",
          "BFA",
          "TGO",
          "ZAR",
          "TWN",
          "AZE",
          "HUN",
          "DNK",
          "POL",
          "PRK",
          "JAM",
          "MAR",
          "KGZ",
          "LBR",
          "MAC",
          "CZE",
          "NCL",
          "CUB",
          "LSO",
          "LAO",
          "KAZ",
          "MDG",
          "GUY",
          "HKG",
          "GIN",
          "ARM",
          "MLT",
          "TTO",
          "DJI",
          "ARE",
          "MDV",
          "MDA",
          "UZB",
          "FIN",
          "NZL",
          "NOR",
          "GHA",
          "MRT",
          "LVA",
          "SVK",
          "EST",
          "FJI",
          "SWZ",
          "LUX",
          "BLR",
          "VNM",
          "SRB",
          "ERI",
          "BWA",
          "GNB",
          "BEN",
          "LTU",
          "BLZ",
          "GAB",
          "ROU",
          "SGP",
          "QAT",
          "SVN",
          "BTN",
          "BRN",
          "MNE",
          "GRD",
          "COM",
          "MWI",
          "BHS",
          "ISL",
          "SLB",
          "PYF",
          "BRB",
          "DMA",
          "VUT",
          "SYC",
          "TKM",
          "MUS",
          "GNQ",
          "AND",
          "ATG",
          "KOR",
          "FLK"
         ],
         "type": "choropleth",
         "z": [
          24639,
          14376,
          12734,
          12002,
          8327,
          6916,
          6138,
          5364,
          5321,
          4321,
          4165,
          3907,
          3851,
          3353,
          3263,
          3029,
          2872,
          2766,
          2705,
          2528,
          2514,
          2378,
          2249,
          2204,
          2201,
          2198,
          2051,
          2034,
          1973,
          1709,
          1648,
          1575,
          1277,
          1215,
          967,
          816,
          772,
          761,
          688,
          683,
          613,
          566,
          548,
          524,
          503,
          409,
          395,
          371,
          363,
          332,
          323,
          316,
          307,
          297,
          292,
          283,
          273,
          253,
          225,
          221,
          218,
          214,
          207,
          196,
          191,
          189,
          160,
          159,
          156,
          154,
          151,
          140,
          132,
          132,
          131,
          129,
          126,
          118,
          118,
          115,
          114,
          114,
          113,
          110,
          102,
          101,
          99,
          96,
          91,
          91,
          90,
          82,
          80,
          77,
          69,
          66,
          62,
          60,
          59,
          52,
          52,
          51,
          50,
          50,
          50,
          46,
          43,
          39,
          38,
          36,
          36,
          35,
          34,
          33,
          32,
          31,
          30,
          29,
          27,
          27,
          27,
          26,
          26,
          25,
          24,
          23,
          22,
          22,
          22,
          22,
          21,
          21,
          20,
          20,
          20,
          19,
          18,
          18,
          18,
          17,
          17,
          16,
          16,
          14,
          12,
          12,
          10,
          10,
          9,
          8,
          8,
          8,
          8,
          7,
          7,
          7,
          6,
          6,
          6,
          5,
          5,
          5,
          5,
          5,
          4,
          4,
          3,
          3,
          3,
          2,
          2,
          2,
          2,
          2,
          1,
          1,
          1,
          1
         ]
        }
       ],
       "layout": {
        "geo": {
         "projection": {
          "type": "Mercator"
         },
         "showcoastlines": false,
         "showframe": false
        },
        "title": "1970-2017 Global Terrorism map"
       }
      },
      "text/html": [
       "<div id=\"7acbb693-5dd6-4703-a4d0-586f9224b5f1\" style=\"height: 525px; width: 100%;\" class=\"plotly-graph-div\"></div><script type=\"text/javascript\">require([\"plotly\"], function(Plotly) { window.PLOTLYENV=window.PLOTLYENV || {};window.PLOTLYENV.BASE_URL=\"https://plot.ly\";Plotly.newPlot(\"7acbb693-5dd6-4703-a4d0-586f9224b5f1\", [{\"locations\": [\"IRQ\", \"PAK\", \"AFG\", \"IND\", \"COL\", \"PHL\", \"PER\", \"GBR\", \"SLV\", \"TUR\", \"SOM\", \"NGA\", \"THA\", \"YEM\", \"ESP\", \"LKA\", \"USA\", \"DZA\", \"FRA\", \"EGY\", \"LBN\", \"CHL\", \"LBY\", \"ISR\", \"SYR\", \"RUS\", \"GTM\", \"ZAF\", \"NIC\", \"UKR\", \"BGD\", \"ITA\", \"GRC\", \"NPL\", \"SDN\", \"ARG\", \"DEU\", \"IDN\", \"IRN\", \"KEN\", \"BDI\", \"MLI\", \"MMR\", \"MEX\", \"AGO\", \"JPN\", \"UGA\", \"SAU\", \"MOZ\", \"CMR\", \"HND\", \"BOL\", \"IRL\", \"VEN\", \"KHM\", \"CAF\", \"BRA\", \"CHN\", \"SSD\", \"ECU\", \"GEO\", \"HTI\", \"BHR\", \"KSV\", \"ETH\", \"TJK\", \"RWA\", \"BIH\", \"NER\", \"BEL\", \"NAM\", \"PRT\", \"SWE\", \"CYP\", \"NLD\", \"PAN\", \"AUT\", \"MKD\", \"SEN\", \"PRY\", \"AUS\", \"CHE\", \"JOR\", \"TUN\", \"SLE\", \"ZWE\", \"MYS\", \"CAN\", \"TCD\", \"PNG\", \"DOM\", \"URY\", \"ALB\", \"KWT\", \"CRI\", \"SUR\", \"ZMB\", \"TZA\", \"HRV\", \"BGR\", \"BFA\", \"TGO\", \"ZAR\", \"TWN\", \"AZE\", \"HUN\", \"DNK\", \"POL\", \"PRK\", \"JAM\", \"MAR\", \"KGZ\", \"LBR\", \"MAC\", \"CZE\", \"NCL\", \"CUB\", \"LSO\", \"LAO\", \"KAZ\", \"MDG\", \"GUY\", \"HKG\", \"GIN\", \"ARM\", \"MLT\", \"TTO\", \"DJI\", \"ARE\", \"MDV\", \"MDA\", \"UZB\", \"FIN\", \"NZL\", \"NOR\", \"GHA\", \"MRT\", \"LVA\", \"SVK\", \"EST\", \"FJI\", \"SWZ\", \"LUX\", \"BLR\", \"VNM\", \"SRB\", \"ERI\", \"BWA\", \"GNB\", \"BEN\", \"LTU\", \"BLZ\", \"GAB\", \"ROU\", \"SGP\", \"QAT\", \"SVN\", \"BTN\", \"BRN\", \"MNE\", \"GRD\", \"COM\", \"MWI\", \"BHS\", \"ISL\", \"SLB\", \"PYF\", \"BRB\", \"DMA\", \"VUT\", \"SYC\", \"TKM\", \"MUS\", \"GNQ\", \"AND\", \"ATG\", \"KOR\", \"FLK\"], \"marker\": {\"line\": {\"color\": \"rgb(180,180,180)\", \"width\": 0.5}}, \"colorbar\": {\"title\": \"Scale of Attacks\", \"autotick\": false}, \"text\": [\"IRQ\", \"PAK\", \"AFG\", \"IND\", \"COL\", \"PHL\", \"PER\", \"GBR\", \"SLV\", \"TUR\", \"SOM\", \"NGA\", \"THA\", \"YEM\", \"ESP\", \"LKA\", \"USA\", \"DZA\", \"FRA\", \"EGY\", \"LBN\", \"CHL\", \"LBY\", \"ISR\", \"SYR\", \"RUS\", \"GTM\", \"ZAF\", \"NIC\", \"UKR\", \"BGD\", \"ITA\", \"GRC\", \"NPL\", \"SDN\", \"ARG\", \"DEU\", \"IDN\", \"IRN\", \"KEN\", \"BDI\", \"MLI\", \"MMR\", \"MEX\", \"AGO\", \"JPN\", \"UGA\", \"SAU\", \"MOZ\", \"CMR\", \"HND\", \"BOL\", \"IRL\", \"VEN\", \"KHM\", \"CAF\", \"BRA\", \"CHN\", \"SSD\", \"ECU\", \"GEO\", \"HTI\", \"BHR\", \"KSV\", \"ETH\", \"TJK\", \"RWA\", \"BIH\", \"NER\", \"BEL\", \"NAM\", \"PRT\", \"SWE\", \"CYP\", \"NLD\", \"PAN\", \"AUT\", \"MKD\", \"SEN\", \"PRY\", \"AUS\", \"CHE\", \"JOR\", \"TUN\", \"SLE\", \"ZWE\", \"MYS\", \"CAN\", \"TCD\", \"PNG\", \"DOM\", \"URY\", \"ALB\", \"KWT\", \"CRI\", \"SUR\", \"ZMB\", \"TZA\", \"HRV\", \"BGR\", \"BFA\", \"TGO\", \"ZAR\", \"TWN\", \"AZE\", \"HUN\", \"DNK\", \"POL\", \"PRK\", \"JAM\", \"MAR\", \"KGZ\", \"LBR\", \"MAC\", \"CZE\", \"NCL\", \"CUB\", \"LSO\", \"LAO\", \"KAZ\", \"MDG\", \"GUY\", \"HKG\", \"GIN\", \"ARM\", \"MLT\", \"TTO\", \"DJI\", \"ARE\", \"MDV\", \"MDA\", \"UZB\", \"FIN\", \"NZL\", \"NOR\", \"GHA\", \"MRT\", \"LVA\", \"SVK\", \"EST\", \"FJI\", \"SWZ\", \"LUX\", \"BLR\", \"VNM\", \"SRB\", \"ERI\", \"BWA\", \"GNB\", \"BEN\", \"LTU\", \"BLZ\", \"GAB\", \"ROU\", \"SGP\", \"QAT\", \"SVN\", \"BTN\", \"BRN\", \"MNE\", \"GRD\", \"COM\", \"MWI\", \"BHS\", \"ISL\", \"SLB\", \"PYF\", \"BRB\", \"DMA\", \"VUT\", \"SYC\", \"TKM\", \"MUS\", \"GNQ\", \"AND\", \"ATG\", \"KOR\", \"FLK\"], \"z\": [24639, 14376, 12734, 12002, 8327, 6916, 6138, 5364, 5321, 4321, 4165, 3907, 3851, 3353, 3263, 3029, 2872, 2766, 2705, 2528, 2514, 2378, 2249, 2204, 2201, 2198, 2051, 2034, 1973, 1709, 1648, 1575, 1277, 1215, 967, 816, 772, 761, 688, 683, 613, 566, 548, 524, 503, 409, 395, 371, 363, 332, 323, 316, 307, 297, 292, 283, 273, 253, 225, 221, 218, 214, 207, 196, 191, 189, 160, 159, 156, 154, 151, 140, 132, 132, 131, 129, 126, 118, 118, 115, 114, 114, 113, 110, 102, 101, 99, 96, 91, 91, 90, 82, 80, 77, 69, 66, 62, 60, 59, 52, 52, 51, 50, 50, 50, 46, 43, 39, 38, 36, 36, 35, 34, 33, 32, 31, 30, 29, 27, 27, 27, 26, 26, 25, 24, 23, 22, 22, 22, 22, 21, 21, 20, 20, 20, 19, 18, 18, 18, 17, 17, 16, 16, 14, 12, 12, 10, 10, 9, 8, 8, 8, 8, 7, 7, 7, 6, 6, 6, 5, 5, 5, 5, 5, 4, 4, 3, 3, 3, 2, 2, 2, 2, 2, 1, 1, 1, 1], \"colorscale\": [[0, \"rgb(5, 10, 172)\"], [0.35, \"rgb(40, 60, 190)\"], [0.5, \"rgb(70, 100, 245)\"], [0.6, \"rgb(90, 120, 245)\"], [0.7, \"rgb(106, 137, 247)\"], [1, \"rgb(220, 220, 220)\"]], \"reversescale\": true, \"autocolorscale\": false, \"type\": \"choropleth\"}], {\"title\": \"1970-2017 Global Terrorism map\", \"geo\": {\"projection\": {\"type\": \"Mercator\"}, \"showcoastlines\": false, \"showframe\": false}}, {\"showLink\": true, \"linkText\": \"Export to plot.ly\"})});</script>"
      ],
      "text/vnd.plotly.v1+html": [
       "<div id=\"7acbb693-5dd6-4703-a4d0-586f9224b5f1\" style=\"height: 525px; width: 100%;\" class=\"plotly-graph-div\"></div><script type=\"text/javascript\">require([\"plotly\"], function(Plotly) { window.PLOTLYENV=window.PLOTLYENV || {};window.PLOTLYENV.BASE_URL=\"https://plot.ly\";Plotly.newPlot(\"7acbb693-5dd6-4703-a4d0-586f9224b5f1\", [{\"locations\": [\"IRQ\", \"PAK\", \"AFG\", \"IND\", \"COL\", \"PHL\", \"PER\", \"GBR\", \"SLV\", \"TUR\", \"SOM\", \"NGA\", \"THA\", \"YEM\", \"ESP\", \"LKA\", \"USA\", \"DZA\", \"FRA\", \"EGY\", \"LBN\", \"CHL\", \"LBY\", \"ISR\", \"SYR\", \"RUS\", \"GTM\", \"ZAF\", \"NIC\", \"UKR\", \"BGD\", \"ITA\", \"GRC\", \"NPL\", \"SDN\", \"ARG\", \"DEU\", \"IDN\", \"IRN\", \"KEN\", \"BDI\", \"MLI\", \"MMR\", \"MEX\", \"AGO\", \"JPN\", \"UGA\", \"SAU\", \"MOZ\", \"CMR\", \"HND\", \"BOL\", \"IRL\", \"VEN\", \"KHM\", \"CAF\", \"BRA\", \"CHN\", \"SSD\", \"ECU\", \"GEO\", \"HTI\", \"BHR\", \"KSV\", \"ETH\", \"TJK\", \"RWA\", \"BIH\", \"NER\", \"BEL\", \"NAM\", \"PRT\", \"SWE\", \"CYP\", \"NLD\", \"PAN\", \"AUT\", \"MKD\", \"SEN\", \"PRY\", \"AUS\", \"CHE\", \"JOR\", \"TUN\", \"SLE\", \"ZWE\", \"MYS\", \"CAN\", \"TCD\", \"PNG\", \"DOM\", \"URY\", \"ALB\", \"KWT\", \"CRI\", \"SUR\", \"ZMB\", \"TZA\", \"HRV\", \"BGR\", \"BFA\", \"TGO\", \"ZAR\", \"TWN\", \"AZE\", \"HUN\", \"DNK\", \"POL\", \"PRK\", \"JAM\", \"MAR\", \"KGZ\", \"LBR\", \"MAC\", \"CZE\", \"NCL\", \"CUB\", \"LSO\", \"LAO\", \"KAZ\", \"MDG\", \"GUY\", \"HKG\", \"GIN\", \"ARM\", \"MLT\", \"TTO\", \"DJI\", \"ARE\", \"MDV\", \"MDA\", \"UZB\", \"FIN\", \"NZL\", \"NOR\", \"GHA\", \"MRT\", \"LVA\", \"SVK\", \"EST\", \"FJI\", \"SWZ\", \"LUX\", \"BLR\", \"VNM\", \"SRB\", \"ERI\", \"BWA\", \"GNB\", \"BEN\", \"LTU\", \"BLZ\", \"GAB\", \"ROU\", \"SGP\", \"QAT\", \"SVN\", \"BTN\", \"BRN\", \"MNE\", \"GRD\", \"COM\", \"MWI\", \"BHS\", \"ISL\", \"SLB\", \"PYF\", \"BRB\", \"DMA\", \"VUT\", \"SYC\", \"TKM\", \"MUS\", \"GNQ\", \"AND\", \"ATG\", \"KOR\", \"FLK\"], \"marker\": {\"line\": {\"color\": \"rgb(180,180,180)\", \"width\": 0.5}}, \"colorbar\": {\"title\": \"Scale of Attacks\", \"autotick\": false}, \"text\": [\"IRQ\", \"PAK\", \"AFG\", \"IND\", \"COL\", \"PHL\", \"PER\", \"GBR\", \"SLV\", \"TUR\", \"SOM\", \"NGA\", \"THA\", \"YEM\", \"ESP\", \"LKA\", \"USA\", \"DZA\", \"FRA\", \"EGY\", \"LBN\", \"CHL\", \"LBY\", \"ISR\", \"SYR\", \"RUS\", \"GTM\", \"ZAF\", \"NIC\", \"UKR\", \"BGD\", \"ITA\", \"GRC\", \"NPL\", \"SDN\", \"ARG\", \"DEU\", \"IDN\", \"IRN\", \"KEN\", \"BDI\", \"MLI\", \"MMR\", \"MEX\", \"AGO\", \"JPN\", \"UGA\", \"SAU\", \"MOZ\", \"CMR\", \"HND\", \"BOL\", \"IRL\", \"VEN\", \"KHM\", \"CAF\", \"BRA\", \"CHN\", \"SSD\", \"ECU\", \"GEO\", \"HTI\", \"BHR\", \"KSV\", \"ETH\", \"TJK\", \"RWA\", \"BIH\", \"NER\", \"BEL\", \"NAM\", \"PRT\", \"SWE\", \"CYP\", \"NLD\", \"PAN\", \"AUT\", \"MKD\", \"SEN\", \"PRY\", \"AUS\", \"CHE\", \"JOR\", \"TUN\", \"SLE\", \"ZWE\", \"MYS\", \"CAN\", \"TCD\", \"PNG\", \"DOM\", \"URY\", \"ALB\", \"KWT\", \"CRI\", \"SUR\", \"ZMB\", \"TZA\", \"HRV\", \"BGR\", \"BFA\", \"TGO\", \"ZAR\", \"TWN\", \"AZE\", \"HUN\", \"DNK\", \"POL\", \"PRK\", \"JAM\", \"MAR\", \"KGZ\", \"LBR\", \"MAC\", \"CZE\", \"NCL\", \"CUB\", \"LSO\", \"LAO\", \"KAZ\", \"MDG\", \"GUY\", \"HKG\", \"GIN\", \"ARM\", \"MLT\", \"TTO\", \"DJI\", \"ARE\", \"MDV\", \"MDA\", \"UZB\", \"FIN\", \"NZL\", \"NOR\", \"GHA\", \"MRT\", \"LVA\", \"SVK\", \"EST\", \"FJI\", \"SWZ\", \"LUX\", \"BLR\", \"VNM\", \"SRB\", \"ERI\", \"BWA\", \"GNB\", \"BEN\", \"LTU\", \"BLZ\", \"GAB\", \"ROU\", \"SGP\", \"QAT\", \"SVN\", \"BTN\", \"BRN\", \"MNE\", \"GRD\", \"COM\", \"MWI\", \"BHS\", \"ISL\", \"SLB\", \"PYF\", \"BRB\", \"DMA\", \"VUT\", \"SYC\", \"TKM\", \"MUS\", \"GNQ\", \"AND\", \"ATG\", \"KOR\", \"FLK\"], \"z\": [24639, 14376, 12734, 12002, 8327, 6916, 6138, 5364, 5321, 4321, 4165, 3907, 3851, 3353, 3263, 3029, 2872, 2766, 2705, 2528, 2514, 2378, 2249, 2204, 2201, 2198, 2051, 2034, 1973, 1709, 1648, 1575, 1277, 1215, 967, 816, 772, 761, 688, 683, 613, 566, 548, 524, 503, 409, 395, 371, 363, 332, 323, 316, 307, 297, 292, 283, 273, 253, 225, 221, 218, 214, 207, 196, 191, 189, 160, 159, 156, 154, 151, 140, 132, 132, 131, 129, 126, 118, 118, 115, 114, 114, 113, 110, 102, 101, 99, 96, 91, 91, 90, 82, 80, 77, 69, 66, 62, 60, 59, 52, 52, 51, 50, 50, 50, 46, 43, 39, 38, 36, 36, 35, 34, 33, 32, 31, 30, 29, 27, 27, 27, 26, 26, 25, 24, 23, 22, 22, 22, 22, 21, 21, 20, 20, 20, 19, 18, 18, 18, 17, 17, 16, 16, 14, 12, 12, 10, 10, 9, 8, 8, 8, 8, 7, 7, 7, 6, 6, 6, 5, 5, 5, 5, 5, 4, 4, 3, 3, 3, 2, 2, 2, 2, 2, 1, 1, 1, 1], \"colorscale\": [[0, \"rgb(5, 10, 172)\"], [0.35, \"rgb(40, 60, 190)\"], [0.5, \"rgb(70, 100, 245)\"], [0.6, \"rgb(90, 120, 245)\"], [0.7, \"rgb(106, 137, 247)\"], [1, \"rgb(220, 220, 220)\"]], \"reversescale\": true, \"autocolorscale\": false, \"type\": \"choropleth\"}], {\"title\": \"1970-2017 Global Terrorism map\", \"geo\": {\"projection\": {\"type\": \"Mercator\"}, \"showcoastlines\": false, \"showframe\": false}}, {\"showLink\": true, \"linkText\": \"Export to plot.ly\"})});</script>"
      ]
     },
     "metadata": {},
     "output_type": "display_data"
    }
   ],
   "source": [
    "data = [ dict(\n",
    "        type = 'choropleth',\n",
    "        locations = all_year_df.codes.value_counts().index,\n",
    "        z = all_year_df.codes.value_counts(),\n",
    "        text = all_year_df.codes.value_counts().index,\n",
    "        colorscale = [[0,\"rgb(5, 10, 172)\"],[0.35,\"rgb(40, 60, 190)\"],[0.5,\"rgb(70, 100, 245)\"],\\\n",
    "            [0.6,\"rgb(90, 120, 245)\"],[0.7,\"rgb(106, 137, 247)\"],[1,\"rgb(220, 220, 220)\"]],\n",
    "        autocolorscale = False,\n",
    "        reversescale = True,\n",
    "        marker = dict(\n",
    "            line = dict (\n",
    "                color = 'rgb(180,180,180)',\n",
    "                width = 0.5\n",
    "            ) ),\n",
    "        colorbar = dict(\n",
    "            autotick = False,\n",
    "            title = 'Scale of Attacks'),\n",
    "      ) ]\n",
    "\n",
    "layout = dict(\n",
    "    title = '1970-2017 Global Terrorism map',\n",
    "    geo = dict(\n",
    "        showframe = False,\n",
    "        showcoastlines = False,\n",
    "        projection = dict(\n",
    "            type = 'Mercator'\n",
    "        )\n",
    "    )\n",
    ")\n",
    "\n",
    "fig = dict( data=data, layout=layout )\n",
    "iplot( fig, validate=False, filename='d3-world-map' )"
   ]
  },
  {
   "cell_type": "markdown",
   "metadata": {},
   "source": [
    "Note: Scroll over the country to see the value of attack counts.\n",
    "\n",
    "**Inference**: Iraq, Pakistan, Afghanistan and Indian are some countries which contribute more to the terrorist attactivities. \n",
    "\n",
    "Now let's concentrate on Iraq! **Was Iraq a birth place for terrorism?** **When did it all start? And why(hard to answer objectively)**?"
   ]
  },
  {
   "cell_type": "code",
   "execution_count": 11,
   "metadata": {
    "collapsed": true
   },
   "outputs": [],
   "source": [
    "df_iraq = all_year_df[all_year_df['country'] == 95]#Iraq country code"
   ]
  },
  {
   "cell_type": "code",
   "execution_count": 12,
   "metadata": {},
   "outputs": [
    {
     "data": {
      "application/vnd.plotly.v1+json": {
       "data": [
        {
         "type": "bar",
         "x": [
          2014,
          2016,
          2013,
          2015,
          2017,
          2012,
          2011,
          2010,
          2009,
          2008,
          2007,
          2006,
          2005,
          2004,
          2003,
          1992,
          1997,
          1994,
          1995,
          1996,
          1999,
          2000,
          1998,
          1980,
          2002,
          1982,
          1989,
          1988,
          1976,
          1983,
          1991,
          1993,
          1981,
          1987,
          2001,
          1984,
          1979,
          1975
         ],
         "y": [
          3933,
          3360,
          2852,
          2751,
          2466,
          1437,
          1308,
          1179,
          1137,
          1106,
          1047,
          838,
          617,
          323,
          102,
          35,
          21,
          18,
          17,
          12,
          12,
          10,
          7,
          6,
          6,
          5,
          4,
          4,
          3,
          3,
          3,
          3,
          3,
          3,
          3,
          2,
          2,
          1
         ]
        }
       ],
       "layout": {
        "font": {
         "size": 12
        },
        "title": "Number of Terrorist activities in Iraq",
        "titlefont": {
         "size": 25
        },
        "xaxis": {
         "dtick": 1,
         "title": "Year"
        },
        "yaxis": {
         "title": "Number of Occurences"
        }
       }
      },
      "text/html": [
       "<div id=\"47b95c9c-f844-453a-beda-d7ff95bd9b77\" style=\"height: 525px; width: 100%;\" class=\"plotly-graph-div\"></div><script type=\"text/javascript\">require([\"plotly\"], function(Plotly) { window.PLOTLYENV=window.PLOTLYENV || {};window.PLOTLYENV.BASE_URL=\"https://plot.ly\";Plotly.newPlot(\"47b95c9c-f844-453a-beda-d7ff95bd9b77\", [{\"x\": [2014, 2016, 2013, 2015, 2017, 2012, 2011, 2010, 2009, 2008, 2007, 2006, 2005, 2004, 2003, 1992, 1997, 1994, 1995, 1996, 1999, 2000, 1998, 1980, 2002, 1982, 1989, 1988, 1976, 1983, 1991, 1993, 1981, 1987, 2001, 1984, 1979, 1975], \"type\": \"bar\", \"y\": [3933, 3360, 2852, 2751, 2466, 1437, 1308, 1179, 1137, 1106, 1047, 838, 617, 323, 102, 35, 21, 18, 17, 12, 12, 10, 7, 6, 6, 5, 4, 4, 3, 3, 3, 3, 3, 3, 3, 2, 2, 1]}], {\"xaxis\": {\"dtick\": 1, \"title\": \"Year\"}, \"font\": {\"size\": 12}, \"titlefont\": {\"size\": 25}, \"yaxis\": {\"title\": \"Number of Occurences\"}, \"title\": \"Number of Terrorist activities in Iraq\"}, {\"showLink\": true, \"linkText\": \"Export to plot.ly\"})});</script>"
      ],
      "text/vnd.plotly.v1+html": [
       "<div id=\"47b95c9c-f844-453a-beda-d7ff95bd9b77\" style=\"height: 525px; width: 100%;\" class=\"plotly-graph-div\"></div><script type=\"text/javascript\">require([\"plotly\"], function(Plotly) { window.PLOTLYENV=window.PLOTLYENV || {};window.PLOTLYENV.BASE_URL=\"https://plot.ly\";Plotly.newPlot(\"47b95c9c-f844-453a-beda-d7ff95bd9b77\", [{\"x\": [2014, 2016, 2013, 2015, 2017, 2012, 2011, 2010, 2009, 2008, 2007, 2006, 2005, 2004, 2003, 1992, 1997, 1994, 1995, 1996, 1999, 2000, 1998, 1980, 2002, 1982, 1989, 1988, 1976, 1983, 1991, 1993, 1981, 1987, 2001, 1984, 1979, 1975], \"type\": \"bar\", \"y\": [3933, 3360, 2852, 2751, 2466, 1437, 1308, 1179, 1137, 1106, 1047, 838, 617, 323, 102, 35, 21, 18, 17, 12, 12, 10, 7, 6, 6, 5, 4, 4, 3, 3, 3, 3, 3, 3, 3, 2, 2, 1]}], {\"xaxis\": {\"dtick\": 1, \"title\": \"Year\"}, \"font\": {\"size\": 12}, \"titlefont\": {\"size\": 25}, \"yaxis\": {\"title\": \"Number of Occurences\"}, \"title\": \"Number of Terrorist activities in Iraq\"}, {\"showLink\": true, \"linkText\": \"Export to plot.ly\"})});</script>"
      ]
     },
     "metadata": {},
     "output_type": "display_data"
    }
   ],
   "source": [
    "\n",
    "trace = go.Bar(\n",
    "            x = [i for i in df_iraq.iyear.value_counts().index],\n",
    "            y = df_iraq.iyear.value_counts())\n",
    "layout = go.Layout(title = \"Number of Terrorist activities in Iraq\",\n",
    "                   titlefont = dict(size = 25),\n",
    "                   xaxis = dict(title='Year',dtick=1),\n",
    "                   yaxis = dict(title='Number of Occurences'),\n",
    "                   \n",
    "                  font=dict(size=12))\n",
    "data = [trace]\n",
    "fig = dict(data=data, layout = layout)\n",
    "iplot(fig, filename=\"terrorIraq_barchart\")\n"
   ]
  },
  {
   "cell_type": "markdown",
   "metadata": {},
   "source": [
    "**Inference**: From the above charts we know majority of the terrorist activity counts are from Iraq. Although Iraq is the major contributor, the major contribution started from the year 2004. This is mainly because of the **[Iraq war](https://en.wikipedia.org/wiki/Iraq_War)**! Thus backing our previous hypothesis(that there is a increase in terrorist activities in the 21 century is due to a WAR!). Of Course whether this claim is statistically significant or not is another question, yet it is one of many possibilities!"
   ]
  },
  {
   "cell_type": "code",
   "execution_count": 13,
   "metadata": {
    "scrolled": false
   },
   "outputs": [
    {
     "data": {
      "application/vnd.plotly.v1+json": {
       "data": [
        {
         "text": [
          27.78,
          24.68,
          10.45,
          9.65,
          9.24,
          6.87,
          5.68,
          2.83,
          1.91,
          0.44,
          0.31,
          0.16
         ],
         "type": "bar",
         "x": [
          "Middle East & North Africa",
          "South Asia",
          "South America",
          "Sub-Saharan Africa",
          "Western Europe",
          "Southeast Asia",
          "Central America & Caribbean",
          "Eastern Europe",
          "North America",
          "East Asia",
          "Central Asia",
          "Australasia & Oceania"
         ],
         "y": [
          50683,
          45034,
          19063,
          17605,
          16861,
          12530,
          10354,
          5156,
          3492,
          810,
          566,
          284
         ]
        }
       ],
       "layout": {
        "font": {
         "size": 12
        },
        "title": "Regionwise terrorist activities",
        "titlefont": {
         "size": 25
        },
        "xaxis": {
         "dtick": 1,
         "title": "Region"
        },
        "yaxis": {
         "title": "Number of Occurences"
        }
       }
      },
      "text/html": [
       "<div id=\"c01e5524-e1f4-49c5-afe5-1ee95c397f31\" style=\"height: 525px; width: 100%;\" class=\"plotly-graph-div\"></div><script type=\"text/javascript\">require([\"plotly\"], function(Plotly) { window.PLOTLYENV=window.PLOTLYENV || {};window.PLOTLYENV.BASE_URL=\"https://plot.ly\";Plotly.newPlot(\"c01e5524-e1f4-49c5-afe5-1ee95c397f31\", [{\"x\": [\"Middle East & North Africa\", \"South Asia\", \"South America\", \"Sub-Saharan Africa\", \"Western Europe\", \"Southeast Asia\", \"Central America & Caribbean\", \"Eastern Europe\", \"North America\", \"East Asia\", \"Central Asia\", \"Australasia & Oceania\"], \"type\": \"bar\", \"text\": [27.78, 24.68, 10.45, 9.65, 9.24, 6.87, 5.68, 2.83, 1.91, 0.44, 0.31, 0.16], \"y\": [50683, 45034, 19063, 17605, 16861, 12530, 10354, 5156, 3492, 810, 566, 284]}], {\"xaxis\": {\"dtick\": 1, \"title\": \"Region\"}, \"font\": {\"size\": 12}, \"titlefont\": {\"size\": 25}, \"yaxis\": {\"title\": \"Number of Occurences\"}, \"title\": \"Regionwise terrorist activities\"}, {\"showLink\": true, \"linkText\": \"Export to plot.ly\"})});</script>"
      ],
      "text/vnd.plotly.v1+html": [
       "<div id=\"c01e5524-e1f4-49c5-afe5-1ee95c397f31\" style=\"height: 525px; width: 100%;\" class=\"plotly-graph-div\"></div><script type=\"text/javascript\">require([\"plotly\"], function(Plotly) { window.PLOTLYENV=window.PLOTLYENV || {};window.PLOTLYENV.BASE_URL=\"https://plot.ly\";Plotly.newPlot(\"c01e5524-e1f4-49c5-afe5-1ee95c397f31\", [{\"x\": [\"Middle East & North Africa\", \"South Asia\", \"South America\", \"Sub-Saharan Africa\", \"Western Europe\", \"Southeast Asia\", \"Central America & Caribbean\", \"Eastern Europe\", \"North America\", \"East Asia\", \"Central Asia\", \"Australasia & Oceania\"], \"type\": \"bar\", \"text\": [27.78, 24.68, 10.45, 9.65, 9.24, 6.87, 5.68, 2.83, 1.91, 0.44, 0.31, 0.16], \"y\": [50683, 45034, 19063, 17605, 16861, 12530, 10354, 5156, 3492, 810, 566, 284]}], {\"xaxis\": {\"dtick\": 1, \"title\": \"Region\"}, \"font\": {\"size\": 12}, \"titlefont\": {\"size\": 25}, \"yaxis\": {\"title\": \"Number of Occurences\"}, \"title\": \"Regionwise terrorist activities\"}, {\"showLink\": true, \"linkText\": \"Export to plot.ly\"})});</script>"
      ]
     },
     "metadata": {},
     "output_type": "display_data"
    }
   ],
   "source": [
    "trace = go.Bar(\n",
    "            x = [i for i in all_year_df.region_txt.value_counts().index],\n",
    "            y = all_year_df.region_txt.value_counts(), text= label_percent(feature='region_txt'))\n",
    "layout = go.Layout(title = \"Regionwise terrorist activities\",\n",
    "                   titlefont = dict(size = 25),\n",
    "                   xaxis = dict(title='Region',dtick=1),\n",
    "                   yaxis = dict(title='Number of Occurences'),\n",
    "                   \n",
    "                  font=dict(size=12))\n",
    "data = [trace]\n",
    "fig = dict(data=data, layout = layout)\n",
    "iplot(fig, filename=\"terrorregion_bar\")\n"
   ]
  },
  {
   "cell_type": "markdown",
   "metadata": {},
   "source": [
    "**Inference**: Almost 50% of the attacks are from Middle East&North Africa and the South Asia regions."
   ]
  },
  {
   "cell_type": "code",
   "execution_count": 14,
   "metadata": {
    "collapsed": true
   },
   "outputs": [],
   "source": [
    "import nltk"
   ]
  },
  {
   "cell_type": "code",
   "execution_count": 15,
   "metadata": {
    "collapsed": true
   },
   "outputs": [],
   "source": [
    "# words_string = nltk.word_tokenize(all_year_df.summary)\n",
    "tuples = [tuple(str(x)) for x in all_year_df.summary.value_counts().reset_index().values]"
   ]
  },
  {
   "cell_type": "code",
   "execution_count": null,
   "metadata": {
    "collapsed": true
   },
   "outputs": [],
   "source": []
  },
  {
   "cell_type": "code",
   "execution_count": 16,
   "metadata": {
    "collapsed": true
   },
   "outputs": [],
   "source": [
    "motive=all_year_df.motive.str.lower().str.replace(r'\\|', ' ').str.cat(sep=' ')\n",
    "words=nltk.tokenize.word_tokenize(motive)"
   ]
  },
  {
   "cell_type": "code",
   "execution_count": 17,
   "metadata": {},
   "outputs": [
    {
     "data": {
      "image/png": "[encoded data removed]",
      "text/plain": [
       "<matplotlib.figure.Figure at 0x7f88dead0128>"
      ]
     },
     "metadata": {},
     "output_type": "display_data"
    }
   ],
   "source": [
    "\n",
    "from wordcloud import WordCloud, STOPWORDS\n",
    "word_dist = nltk.FreqDist(words)\n",
    "stopwords = nltk.corpus.stopwords.words('english')\n",
    "words_except_stop_dist = nltk.FreqDist(w for w in words if w not in stopwords) \n",
    "wordcloud = WordCloud(stopwords=STOPWORDS,background_color='black').generate(\" \".join(words_except_stop_dist))\n",
    "plt.imshow(wordcloud)\n",
    "fig=plt.gcf()\n",
    "fig.set_size_inches(10,6)\n",
    "plt.axis('off')\n",
    "plt.show()"
   ]
  },
  {
   "cell_type": "markdown",
   "metadata": {},
   "source": [
    "**Inference**: The wordcloud above shows the major occurences in the motive section of the dataset. The bigger the word, the more frequent it occurs. It can be seen that al(for al-kaeda), pro, anti are highly frequent words. It suggests that terrorist activities have some connection with the government."
   ]
  },
  {
   "cell_type": "markdown",
   "metadata": {},
   "source": [
    "## Data Preprocessing"
   ]
  },
  {
   "cell_type": "markdown",
   "metadata": {},
   "source": [
    "The summary feature has summary description along with a datetime. We need to remove the datetime and only text to be present in the summary section."
   ]
  },
  {
   "cell_type": "code",
   "execution_count": 18,
   "metadata": {
    "scrolled": true
   },
   "outputs": [
    {
     "data": {
      "text/plain": [
       "0                                                  NaN\n",
       "1                                                  NaN\n",
       "2                                                  NaN\n",
       "3                                                  NaN\n",
       "4                                                  NaN\n",
       "5    1/1/1970: Unknown African American assailants ...\n",
       "6                                                  NaN\n",
       "7    1/2/1970: Unknown perpetrators detonated explo...\n",
       "8    1/2/1970: Karl Armstrong, a member of the New ...\n",
       "9    1/3/1970: Karl Armstrong, a member of the New ...\n",
       "Name: summary, dtype: object"
      ]
     },
     "execution_count": 18,
     "metadata": {},
     "output_type": "execute_result"
    }
   ],
   "source": [
    "all_year_df.summary.head(10)"
   ]
  },
  {
   "cell_type": "code",
   "execution_count": 19,
   "metadata": {},
   "outputs": [],
   "source": [
    "#modified the summary with just text description\n",
    "splitted_text_col = all_year_df.summary.str.split(':',n=1, expand=True)\n",
    "all_year_df.summary = splitted_text_col[1]"
   ]
  },
  {
   "cell_type": "code",
   "execution_count": 20,
   "metadata": {},
   "outputs": [
    {
     "data": {
      "text/plain": [
       "eventid                    0\n",
       "iyear                      0\n",
       "imonth                     0\n",
       "iday                       0\n",
       "approxdate            173192\n",
       "extended                   0\n",
       "resolution            180181\n",
       "country                    0\n",
       "country_txt                0\n",
       "region                     0\n",
       "region_txt                 0\n",
       "provstate                421\n",
       "city                     434\n",
       "latitude                5303\n",
       "longitude               5304\n",
       "specificity              753\n",
       "vicinity                   0\n",
       "location              126732\n",
       "summary                66142\n",
       "crit1                      0\n",
       "crit2                      0\n",
       "crit3                      0\n",
       "doubtterr                  1\n",
       "alternative           153259\n",
       "alternative_txt       153259\n",
       "multiple                   1\n",
       "success                    1\n",
       "suicide                    0\n",
       "attacktype1                0\n",
       "attacktype1_txt            0\n",
       "                       ...  \n",
       "propextent_txt        117937\n",
       "propvalue             143425\n",
       "propcomment           124309\n",
       "ishostkid                178\n",
       "nhostkid              168802\n",
       "nhostkidus            168857\n",
       "nhours                178352\n",
       "ndays                 174275\n",
       "divert                182106\n",
       "kidhijcountry         179125\n",
       "ransom                104967\n",
       "ransomamt             181082\n",
       "ransomamtus           181871\n",
       "ransompaid            181658\n",
       "ransompaidus          181881\n",
       "ransomnote            181921\n",
       "hostkidoutcome        171390\n",
       "hostkidoutcome_txt    171390\n",
       "nreleased             171978\n",
       "addnotes              153752\n",
       "scite1                 66191\n",
       "scite2                105080\n",
       "scite3                138693\n",
       "dbsource                   0\n",
       "INT_LOG                    0\n",
       "INT_IDEO                   0\n",
       "INT_MISC                   0\n",
       "INT_ANY                    0\n",
       "related               157400\n",
       "codes                   4227\n",
       "dtype: int64"
      ]
     },
     "execution_count": 20,
     "metadata": {},
     "output_type": "execute_result"
    }
   ],
   "source": [
    "all_year_df.isnull().sum()"
   ]
  },
  {
   "cell_type": "code",
   "execution_count": 21,
   "metadata": {
    "collapsed": true
   },
   "outputs": [],
   "source": [
    "remove_columns = all_year_df.columns[all_year_df.isnull().mean() > 0.8]\n",
    "all_year_df.drop(remove_columns, axis=1, inplace=True)"
   ]
  },
  {
   "cell_type": "code",
   "execution_count": 22,
   "metadata": {
    "collapsed": true
   },
   "outputs": [],
   "source": [
    "#combine all the sciting sources\n",
    "all_year_df['scite_combined']= all_year_df['scite1'].fillna('').astype(str)+'+'+all_year_df['scite2'].fillna('').astype(str)+'+'+all_year_df['scite3'].fillna('').astype(str)\n",
    "all_year_df['scite_combined'].replace(r'^\\s*$', np.nan, regex=True, inplace=True)\n"
   ]
  },
  {
   "cell_type": "code",
   "execution_count": 23,
   "metadata": {},
   "outputs": [],
   "source": [
    "#drop attributes that are duplicate of another\n",
    "all_year_df.drop(['eventid','location','codes',\n",
    " 'attacktype1',\n",
    " 'country',\n",
    " 'natlty1',\n",
    " 'propextent','region',\n",
    " 'scite1',\n",
    " 'scite2',\n",
    " 'scite3',\n",
    " 'target1',                          \n",
    " 'targsubtype1',\n",
    " 'targtype1',\n",
    " 'weapsubtype1',\n",
    " 'weaptype1'], axis=1, inplace=True)"
   ]
  },
  {
   "cell_type": "code",
   "execution_count": 24,
   "metadata": {},
   "outputs": [
    {
     "data": {
      "text/plain": [
       "Index(['iyear', 'imonth', 'iday', 'extended', 'country_txt', 'region_txt',\n",
       "       'provstate', 'city', 'latitude', 'longitude', 'specificity', 'vicinity',\n",
       "       'summary', 'crit1', 'crit2', 'crit3', 'doubtterr', 'multiple',\n",
       "       'success', 'suicide', 'attacktype1_txt', 'targtype1_txt',\n",
       "       'targsubtype1_txt', 'corp1', 'natlty1_txt', 'gname', 'motive',\n",
       "       'guncertain1', 'individual', 'nperps', 'nperpcap', 'claimed',\n",
       "       'weaptype1_txt', 'weapsubtype1_txt', 'weapdetail', 'nkill', 'nkillus',\n",
       "       'nkillter', 'nwound', 'nwoundus', 'nwoundte', 'property',\n",
       "       'propextent_txt', 'propvalue', 'propcomment', 'ishostkid', 'ransom',\n",
       "       'dbsource', 'INT_LOG', 'INT_IDEO', 'INT_MISC', 'INT_ANY',\n",
       "       'scite_combined'],\n",
       "      dtype='object')"
      ]
     },
     "execution_count": 24,
     "metadata": {},
     "output_type": "execute_result"
    }
   ],
   "source": [
    "all_year_df.columns"
   ]
  },
  {
   "cell_type": "markdown",
   "metadata": {},
   "source": [
    "## Handling Missing values:\n",
    "1. For Numerical categories -\\begin{align}3\\sigma  Rule\\\n",
    "\\end{align} \n",
    "2. Categorical valariables - fill nan with -1\n",
    "3. Text features - fill nan with 'UNKNOWN'"
   ]
  },
  {
   "cell_type": "code",
   "execution_count": 25,
   "metadata": {
    "collapsed": true
   },
   "outputs": [],
   "source": [
    "class MissingValueHandler:\n",
    "    def __init__(self, dataframe):\n",
    "        self.dataframe = dataframe\n",
    "    \n",
    "    def category_feature_handler(self, feature_name_list, unknown = False):\n",
    "        if not unknown:\n",
    "            for each_feature in feature_name_list:\n",
    "                self.dataframe[each_feature].fillna(-1, inplace=True)\n",
    "        else:\n",
    "            for each_feature in feature_name_list:\n",
    "                self.dataframe.loc[self.dataframe[each_feature] == -9, each_feature] = -1\n",
    "                self.dataframe.loc[self.dataframe[each_feature] == -99, each_feature] = -1 \n",
    "        return self.dataframe\n",
    "    \n",
    "    def text_feature_handler(self, feature_name_list):\n",
    "        for each_feature in feature_name_list:\n",
    "            self.dataframe[each_feature].fillna('UNKNOWN',inplace=True)\n",
    "            \n",
    "    def numerical_feature_handler(self, feature_name_list):\n",
    "        for feat in feature_name_list:\n",
    "            sigma = self.dataframe[feat].std(skipna=None)\n",
    "            mean = self.dataframe[feat].mean(skipna=None)\n",
    "            outlier = self.dataframe[np.abs(self.dataframe[feat]-mean) > (3*sigma)]\n",
    "            \n",
    "            filler = 0.0\n",
    "            if outlier.empty:\n",
    "                filler = mean\n",
    "            else:\n",
    "                filler = self.dataframe[feat].median(skipna=None)\n",
    "            \n",
    "            self.dataframe[feat] = self.dataframe[feat].fillna(filler)\n",
    "            "
   ]
  },
  {
   "cell_type": "code",
   "execution_count": 26,
   "metadata": {
    "collapsed": true
   },
   "outputs": [],
   "source": [
    "category_features = ['extended','specificity','crit1','crit2','crit3','doubtterr','multiple',\n",
    "                     'success','suicide', 'claimed', 'guncertain1']\n",
    "\n",
    "category_with_unknowntype = ['property','ransom', 'ishostkid','vicinity','INT_LOG','INT_IDEO','INT_MISC','INT_ANY']\n",
    "\n",
    "text_features = ['country_txt','region_txt','attacktype1_txt','targtype1_txt','weapdetail',\n",
    "                'targsubtype1_txt','natlty1_txt','weaptype1_txt','weapsubtype1_txt','propextent_txt',\n",
    "                'summary','provstate','motive','city','corp1','propcomment']\n",
    "\n",
    "numerical_features = ['nkill', 'nkillus','nperps', 'nperpcap','propvalue',\n",
    "                       'nkillter', 'nwound', 'nwoundus', 'nwoundte']\n",
    "\n",
    "all_year_df.loc[all_year_df['scite_combined'] == '++', 'scite_combined'] = 'UNKNOWN'\n",
    "\n",
    "#create an instance\n",
    "obj = MissingValueHandler(all_year_df)\n",
    "\n",
    "obj.category_feature_handler(feature_name_list = category_features)\n",
    "obj.category_feature_handler(feature_name_list = category_with_unknowntype, unknown=True)\n",
    "obj.numerical_feature_handler(feature_name_list = numerical_features)\n",
    "obj.text_feature_handler(text_features)"
   ]
  },
  {
   "cell_type": "code",
   "execution_count": 27,
   "metadata": {
    "collapsed": true
   },
   "outputs": [],
   "source": [
    "#Change to categorical data type\n",
    "less_than_three_categories = ['extended','crit1','crit2','crit3','doubtterr','multiple','success',\n",
    "                              'suicide','individual','guncertain1', 'claimed', 'property', 'ransom', \n",
    "                              'ishostkid', 'vicinity','INT_LOG','INT_IDEO','INT_MISC','INT_ANY']\n",
    "\n",
    "mapper_dict = {1:'YES', 0: 'NO', -1: 'UNKNOWN'}\n",
    "for category in less_than_three_categories:\n",
    "    all_year_df[category+'_txt'] = all_year_df[category].map(mapper_dict)\n",
    "    all_year_df[category+'_txt'] = all_year_df[category+'_txt'].astype('category')\n",
    "\n",
    "#now remove the older ones\n",
    "all_year_df.drop(less_than_three_categories, axis=1, inplace=True)\n"
   ]
  },
  {
   "cell_type": "code",
   "execution_count": 28,
   "metadata": {
    "collapsed": true
   },
   "outputs": [],
   "source": [
    "#change the object datatype to category for category features\n",
    "convert_to_categorytype = ['specificity','country_txt','region_txt','attacktype1_txt','targtype1_txt',\n",
    "                            'targsubtype1_txt','extended_txt','natlty1_txt','weaptype1_txt','weapsubtype1_txt','propextent_txt','city','corp1']\n",
    "for category in convert_to_categorytype:\n",
    "    all_year_df[category] = all_year_df[category].astype('category')"
   ]
  },
  {
   "cell_type": "code",
   "execution_count": 29,
   "metadata": {},
   "outputs": [
    {
     "name": "stdout",
     "output_type": "stream",
     "text": [
      "<class 'pandas.core.frame.DataFrame'>\n",
      "RangeIndex: 182438 entries, 0 to 182437\n",
      "Data columns (total 53 columns):\n",
      "iyear               182438 non-null int64\n",
      "imonth              182438 non-null int64\n",
      "iday                182438 non-null int64\n",
      "country_txt         182438 non-null category\n",
      "region_txt          182438 non-null category\n",
      "provstate           182438 non-null object\n",
      "city                182438 non-null category\n",
      "latitude            177135 non-null float64\n",
      "longitude           177134 non-null float64\n",
      "specificity         182438 non-null category\n",
      "summary             182438 non-null object\n",
      "attacktype1_txt     182438 non-null category\n",
      "targtype1_txt       182438 non-null category\n",
      "targsubtype1_txt    182438 non-null category\n",
      "corp1               182438 non-null category\n",
      "natlty1_txt         182438 non-null category\n",
      "gname               182438 non-null object\n",
      "motive              182438 non-null object\n",
      "nperps              182438 non-null float64\n",
      "nperpcap            182438 non-null float64\n",
      "weaptype1_txt       182438 non-null category\n",
      "weapsubtype1_txt    182438 non-null category\n",
      "weapdetail          182438 non-null object\n",
      "nkill               182438 non-null float64\n",
      "nkillus             182438 non-null float64\n",
      "nkillter            182438 non-null float64\n",
      "nwound              182438 non-null float64\n",
      "nwoundus            182438 non-null float64\n",
      "nwoundte            182438 non-null float64\n",
      "propextent_txt      182438 non-null category\n",
      "propvalue           182438 non-null float64\n",
      "propcomment         182438 non-null object\n",
      "dbsource            182438 non-null object\n",
      "scite_combined      182438 non-null object\n",
      "extended_txt        182438 non-null category\n",
      "crit1_txt           182438 non-null category\n",
      "crit2_txt           182438 non-null category\n",
      "crit3_txt           182438 non-null category\n",
      "doubtterr_txt       168654 non-null category\n",
      "multiple_txt        182438 non-null category\n",
      "success_txt         182438 non-null category\n",
      "suicide_txt         182438 non-null category\n",
      "individual_txt      182438 non-null category\n",
      "guncertain1_txt     182438 non-null category\n",
      "claimed_txt         180947 non-null category\n",
      "property_txt        182438 non-null category\n",
      "ransom_txt          77471 non-null category\n",
      "ishostkid_txt       182260 non-null category\n",
      "vicinity_txt        182438 non-null category\n",
      "INT_LOG_txt         182438 non-null category\n",
      "INT_IDEO_txt        182438 non-null category\n",
      "INT_MISC_txt        182438 non-null category\n",
      "INT_ANY_txt         182438 non-null category\n",
      "dtypes: category(31), float64(11), int64(3), object(8)\n",
      "memory usage: 37.9+ MB\n"
     ]
    }
   ],
   "source": [
    "all_year_df.info(verbose=True)"
   ]
  },
  {
   "cell_type": "markdown",
   "metadata": {},
   "source": [
    "## Modeling\n",
    "\n",
    "### Objective: Prediction of Attack Group\n",
    "\n",
    "Usually ensemble models like Random Forest classifier performs well with high dimensional multiclass problems. So we will start with this as a baseline model for our objective.\n",
    "\n",
    "Note:Cross-validation is not necessary when using random forest, because multiple bagging in process of training random forest prevents over-fitting."
   ]
  },
  {
   "cell_type": "code",
   "execution_count": 30,
   "metadata": {},
   "outputs": [
    {
     "data": {
      "text/plain": [
       "Unknown                                                           82984\n",
       "Taliban                                                            7478\n",
       "Islamic State of Iraq and the Levant (ISIL)                        5613\n",
       "Shining Path (SL)                                                  4589\n",
       "Farabundo Marti National Liberation Front (FMLN)                   3351\n",
       "Al-Shabaab                                                         3288\n",
       "New People's Army (NPA)                                            2772\n",
       "Irish Republican Army (IRA)                                        2758\n",
       "Revolutionary Armed Forces of Colombia (FARC)                      2494\n",
       "Boko Haram                                                         2418\n",
       "Kurdistan Workers' Party (PKK)                                     2354\n",
       "Basque Fatherland and Freedom (ETA)                                2031\n",
       "Communist Party of India - Maoist (CPI-Maoist)                     1878\n",
       "Maoists                                                            1630\n",
       "Liberation Tigers of Tamil Eelam (LTTE)                            1613\n",
       "National Liberation Army of Colombia (ELN)                         1564\n",
       "Tehrik-i-Taliban Pakistan (TTP)                                    1351\n",
       "Palestinians                                                       1125\n",
       "Houthi extremists (Ansar Allah)                                    1062\n",
       "Al-Qaida in the Arabian Peninsula (AQAP)                           1020\n",
       "Nicaraguan Democratic Force (FDN)                                   895\n",
       "Manuel Rodriguez Patriotic Front (FPMR)                             836\n",
       "Sikh Extremists                                                     716\n",
       "Corsican National Liberation Front (FLNC)                           642\n",
       "Al-Qaida in Iraq                                                    638\n",
       "Muslim extremists                                                   632\n",
       "Donetsk People's Republic                                           624\n",
       "African National Congress (South Africa)                            608\n",
       "Separatists                                                         589\n",
       "Tupac Amaru Revolutionary Movement (MRTA)                           559\n",
       "                                                                  ...  \n",
       "Tehama Movement                                                       1\n",
       "Aghwar \"Fire War\" Group                                               1\n",
       "Lebanese Man                                                          1\n",
       "Earth Night Action Group                                              1\n",
       "28s                                                                   1\n",
       "Bangladesh Communist Party                                            1\n",
       "Patriotic Resistance Army (ERP)                                       1\n",
       "14 March Coalition                                                    1\n",
       "Ultra Nationalist Group, name not given                               1\n",
       "Protectors of Islam Brigade                                           1\n",
       "The 78 Unemployed                                                     1\n",
       "Bosnian Croats                                                        1\n",
       "Maoist Communist Party (MKP)                                          1\n",
       "Omar Torrijos Commando for Latin American Dignity                     1\n",
       "P.R.E.                                                                1\n",
       "National Democratic Front of Liberia                                  1\n",
       "AFB                                                                   1\n",
       "Bhumi Uchched Pratirodh Committee (BUPC)                              1\n",
       "Tayeb Al-Afghani's Islamist Group                                     1\n",
       "United National Liberation Front of WESEA (UNLFW)                     1\n",
       "God our Father Cult                                                   1\n",
       "Armed Revolutionary Groups                                            1\n",
       "Islamic Movement of Iraqi Mujahidin                                   1\n",
       "Justice Army for Defenseless Peoples                                  1\n",
       "Coordination of Anti-atomic Power Plant Saboteurs                     1\n",
       "Organization of Metropolitan Proletariat and Oppressed Peoples        1\n",
       "Pan-Turkish Organization                                              1\n",
       "Turkish Islamic Commandos                                             1\n",
       "Gathering to Aid the Oppressed                                        1\n",
       "Falange                                                               1\n",
       "Name: gname, dtype: int64"
      ]
     },
     "execution_count": 30,
     "metadata": {},
     "output_type": "execute_result"
    }
   ],
   "source": [
    "#let's look at our target labels\n",
    "all_year_df.gname.value_counts()"
   ]
  },
  {
   "cell_type": "markdown",
   "metadata": {},
   "source": [
    "Note: Lot of attack groups that made a single attack. Thus we will remove groups which carried out less than 20 attacks. And also we only consider the known groups."
   ]
  },
  {
   "cell_type": "code",
   "execution_count": 31,
   "metadata": {
    "collapsed": true
   },
   "outputs": [],
   "source": [
    "target_groups = all_year_df.gname.value_counts()\n",
    "target_groups = target_groups[target_groups>19]\n",
    "groups_list = target_groups.index[target_groups.index!='Unknown']\n",
    "target_group_df = all_year_df[all_year_df['gname'].isin(groups_list)]"
   ]
  },
  {
   "cell_type": "code",
   "execution_count": 32,
   "metadata": {},
   "outputs": [
    {
     "name": "stderr",
     "output_type": "stream",
     "text": [
      "/usr/local/lib/python3.5/dist-packages/ipykernel/__main__.py:3: SettingWithCopyWarning:\n",
      "\n",
      "\n",
      "A value is trying to be set on a copy of a slice from a DataFrame\n",
      "\n",
      "See the caveats in the documentation: http://pandas.pydata.org/pandas-docs/stable/indexing.html#indexing-view-versus-copy\n",
      "\n"
     ]
    }
   ],
   "source": [
    "#romving text features\n",
    "target_group_df.drop(['scite_combined','weapdetail','summary','provstate','latitude','longitude'\n",
    "                      ,'motive','city','corp1','propcomment','dbsource'],axis=1, inplace=True)"
   ]
  },
  {
   "cell_type": "code",
   "execution_count": 33,
   "metadata": {},
   "outputs": [
    {
     "name": "stderr",
     "output_type": "stream",
     "text": [
      "/usr/local/lib/python3.5/dist-packages/ipykernel/__main__.py:7: SettingWithCopyWarning:\n",
      "\n",
      "\n",
      "A value is trying to be set on a copy of a slice from a DataFrame.\n",
      "Try using .loc[row_indexer,col_indexer] = value instead\n",
      "\n",
      "See the caveats in the documentation: http://pandas.pydata.org/pandas-docs/stable/indexing.html#indexing-view-versus-copy\n",
      "\n",
      "/usr/local/lib/python3.5/dist-packages/pandas/core/indexing.py:477: SettingWithCopyWarning:\n",
      "\n",
      "\n",
      "A value is trying to be set on a copy of a slice from a DataFrame.\n",
      "Try using .loc[row_indexer,col_indexer] = value instead\n",
      "\n",
      "See the caveats in the documentation: http://pandas.pydata.org/pandas-docs/stable/indexing.html#indexing-view-versus-copy\n",
      "\n"
     ]
    }
   ],
   "source": [
    "#Standardization of the numerical columns\n",
    "scaler = preprocessing.RobustScaler()\n",
    "scale_attrs = ['propvalue','nperpcap', 'nperps','nkill', 'nkillus', 'nkillter', \n",
    "               'nwound', 'nwoundus', 'nwoundte']#numerical column\n",
    "\n",
    "target_group_df[scale_attrs].describe().transpose()\n",
    "target_group_df[scale_attrs] = scaler.fit_transform(target_group_df[scale_attrs])\n"
   ]
  },
  {
   "cell_type": "code",
   "execution_count": 34,
   "metadata": {},
   "outputs": [],
   "source": [
    "#transform target labels into 0,1\n",
    "le = preprocessing.LabelEncoder()\n",
    "le.fit(target_group_df.gname)\n",
    "# le.classes_\n",
    "label_codes = le.transform(target_group_df.gname)\n"
   ]
  },
  {
   "cell_type": "code",
   "execution_count": 35,
   "metadata": {
    "collapsed": true
   },
   "outputs": [],
   "source": [
    "seed = 123\n",
    "\n",
    "X = pd.get_dummies(target_group_df.drop(['gname'], axis=1), drop_first=True)\n",
    "y = label_codes\n",
    "X_train, X_test, y_train, y_test = train_test_split(X, y, test_size = 0.2, random_state = seed, stratify = y)"
   ]
  },
  {
   "cell_type": "markdown",
   "metadata": {},
   "source": [
    "###### Note:\n",
    "The below gridsearchcv is used to find the best parameter value of all the combinations. It will take lot of computation time."
   ]
  },
  {
   "cell_type": "code",
   "execution_count": 36,
   "metadata": {
    "collapsed": true
   },
   "outputs": [],
   "source": [
    "# from sklearn.model_selection import GridSearchCV\n",
    "\n",
    "# # Create the parameter grid based on the results of random search \n",
    "# param_grid = {\n",
    "#     'bootstrap': [True],\n",
    "#     'max_features': [13, 50],\n",
    "#     'min_samples_leaf': [3, 5, 10],\n",
    "#     'min_samples_split': [8, 10, 12],\n",
    "#     'n_estimators': [50, 75, 100, 125]\n",
    "# }\n",
    "\n",
    "# # Create a based model\n",
    "# rf1 = RandomForestClassifier()\n",
    "\n",
    "# # Instantiate the grid search model\n",
    "# grid_search = GridSearchCV(estimator = rf1, param_grid = param_grid, \n",
    "#                           cv = 3, n_jobs = -1)\n",
    "#grid_search.best_params_"
   ]
  },
  {
   "cell_type": "code",
   "execution_count": 37,
   "metadata": {},
   "outputs": [
    {
     "name": "stdout",
     "output_type": "stream",
     "text": [
      "Execution Seconds: 93.87193441390991\n"
     ]
    }
   ],
   "source": [
    "\n",
    "start = time.time()\n",
    "# Create the model\n",
    "rf1 = RandomForestClassifier(criterion='gini',\n",
    "                                 n_estimators=125,\n",
    "                                 min_samples_split=10,\n",
    "                                 min_samples_leaf=1,\n",
    "                                 oob_score=True,\n",
    "                                 random_state=seed,\n",
    "                                 n_jobs=-1)\n",
    "# Fit it to the training data\n",
    "rf1.fit(X_train, y_train)\n",
    "end = time.time()\n",
    "print(\"Execution Seconds: {}\".format((end - start)))"
   ]
  },
  {
   "cell_type": "code",
   "execution_count": 38,
   "metadata": {},
   "outputs": [
    {
     "name": "stdout",
     "output_type": "stream",
     "text": [
      "\n",
      "Features Ranking - Top 10:\n",
      "\n",
      "(0.05649972794797085, 'iyear')\n",
      "(0.028422353300643643, 'region_txt_South Asia')\n",
      "(0.02294022569910387, 'INT_IDEO_txt_YES')\n",
      "(0.019615389373197005, 'INT_ANY_txt_YES')\n",
      "(0.019348035038876908, 'natlty1_txt_Iraq')\n",
      "(0.019144049031592347, 'country_txt_Peru')\n",
      "(0.017362208167192836, 'natlty1_txt_Peru')\n",
      "(0.017304901373110842, 'country_txt_Iraq')\n",
      "(0.017174725832999296, 'claimed_txt_UNKNOWN')\n",
      "(0.01664798064273926, 'region_txt_Middle East & North Africa')\n"
     ]
    }
   ],
   "source": [
    "# Get the modified column names with one hot encoding\n",
    "column_names = list(X_train.columns.values)\n",
    "\n",
    "# Create a descending sorted list of variables by feature importance\n",
    "var_imp = sorted(zip(map(lambda x: x, rf1.feature_importances_), column_names), \n",
    "             reverse = True)\n",
    "\n",
    "print(\"\\nFeatures Ranking - Top 10:\\n\")\n",
    "for feat in var_imp[0:10]:\n",
    "    print(feat)"
   ]
  },
  {
   "cell_type": "code",
   "execution_count": 39,
   "metadata": {},
   "outputs": [
    {
     "data": {
      "image/png": "[encoded data removed]",
      "text/plain": [
       "<matplotlib.figure.Figure at 0x7f887f67e7f0>"
      ]
     },
     "metadata": {},
     "output_type": "display_data"
    }
   ],
   "source": [
    "# Get the features, standard deviation and indices\n",
    "importances = rf1.feature_importances_\n",
    "std = np.std([tree.feature_importances_ for tree in rf1.estimators_], axis=0)\n",
    "indices = np.argsort(importances)[::-1]\n",
    "\n",
    "# Filter to the top 10\n",
    "top_n = 10\n",
    "top_n_importances = importances[indices][0:top_n]\n",
    "top_n_std = std[0:top_n]\n",
    "top_n_indices = indices[0:top_n]\n",
    "\n",
    "# Create a list of x labels\n",
    "x_labels = [column_names[t] for t in top_n_indices]\n",
    "\n",
    "# Plot the results\n",
    "plt.figure()\n",
    "plt.title(\"Feature Importance - Top 10\",  fontsize=20)\n",
    "plt.bar(range(top_n), top_n_importances, color=\"firebrick\", yerr = top_n_std, align=\"center\")\n",
    "plt.xticks(rotation=90)\n",
    "plt.xticks(range(top_n), x_labels)\n",
    "plt.xlim([-1, top_n])\n",
    "plt.show()"
   ]
  },
  {
   "cell_type": "markdown",
   "metadata": {},
   "source": [
    "**Inference**: Feature ranking helps us in identifying the contribution of features to our model. Year('iyear') tops the list, and it is common that most of the terrorist groups(or classes) activities can be attributed to the era of their period. Thus it makes sense why year tops the feature list"
   ]
  },
  {
   "cell_type": "markdown",
   "metadata": {},
   "source": [
    "### Choosing the Performance metrics: Recal\n",
    "\n",
    "### Recal - TP/(TP+FN)\n",
    "\n",
    "##### Logic behind choosing the metric\n",
    "\n",
    "Since this problem is to classify which group is responsible for the attack. It better to avoid **False Negatives**. That is I want to penalize the model which tells that the model classifies it attack for a wrong class than the correct class.\n",
    "\n",
    "For eg: The 9/11 attack is caused due to al-Qaeda group(actual positive class). So I want penalize a machine learning model which says 9/11 attack is **not** due to al-Qaeda!"
   ]
  },
  {
   "cell_type": "code",
   "execution_count": 40,
   "metadata": {},
   "outputs": [],
   "source": [
    "#avoid memory leaks by chunking your test set for prediction\n",
    "split_test_list = np.vsplit(X_test,X_test.shape[0]/6)"
   ]
  },
  {
   "cell_type": "code",
   "execution_count": 41,
   "metadata": {
    "collapsed": true
   },
   "outputs": [],
   "source": [
    "from sklearn.model_selection import cross_val_score\n",
    "from sklearn.metrics import classification_report, confusion_matrix"
   ]
  },
  {
   "cell_type": "code",
   "execution_count": 42,
   "metadata": {},
   "outputs": [
    {
     "name": "stdout",
     "output_type": "stream",
     "text": [
      "\n",
      "Accuracy: 0.8431860954278756\n",
      "\n",
      "Precision: 0.8305226059707872\n",
      "\n",
      "Recall: 0.8431860954278756\n",
      "\n",
      "F1: 0.8207572340143373\n"
     ]
    },
    {
     "name": "stderr",
     "output_type": "stream",
     "text": [
      "/usr/local/lib/python3.5/dist-packages/sklearn/metrics/classification.py:1113: UndefinedMetricWarning:\n",
      "\n",
      "Precision is ill-defined and being set to 0.0 in labels with no predicted samples.\n",
      "\n",
      "/usr/local/lib/python3.5/dist-packages/sklearn/metrics/classification.py:1113: UndefinedMetricWarning:\n",
      "\n",
      "F-score is ill-defined and being set to 0.0 in labels with no predicted samples.\n",
      "\n"
     ]
    }
   ],
   "source": [
    "ans = []\n",
    "for splitted_X_test in split_test_list:\n",
    "# Predict labels on the test dataset\n",
    "    pred_labels1 = rf1.predict(splitted_X_test)\n",
    "    \n",
    "    ans.extend(pred_labels1)\n",
    "\n",
    "pred_labels1 = ans\n",
    "# Calculate the accuracy of the model\n",
    "acc_score1 = accuracy_score(y_test, pred_labels1)\n",
    "print(\"\\nAccuracy: {}\".format(acc_score1))\n",
    "\n",
    "# Calculate the precision of the model\n",
    "prec_score1 = precision_score(y_test, pred_labels1, average='weighted')\n",
    "print(\"\\nPrecision: {}\".format(prec_score1))\n",
    "\n",
    "# Calculate the recall of the model\n",
    "rcll_score1 = recall_score(y_test, pred_labels1, average='weighted')\n",
    "print(\"\\nRecall: {}\".format(rcll_score1))\n",
    "\n",
    "# Calculate the F1 of the model\n",
    "f1_score1 = f1_score(y_test, pred_labels1, average='weighted')\n",
    "print(\"\\nF1: {}\".format(f1_score1))"
   ]
  },
  {
   "cell_type": "markdown",
   "metadata": {},
   "source": [
    "References:\n",
    "1. [Handling Missing data](https://www.oreilly.com/learning/handling-missing-data)\n",
    "2. [Hyperparameter tunning in Randomforest](https://towardsdatascience.com/hyperparameter-tuning-the-random-forest-in-python-using-scikit-learn-28d2aa77dd74)\n",
    "3. [How to avoid memory leaks](https://www.kaggle.com/c/datasciencebowl/discussion/12520)\n",
    "4. [Sklearn random forest parameters](https://scikit-learn.org/stable/modules/ensemble.html#forest)"
   ]
  }
 ],
 "metadata": {
  "kernelspec": {
   "display_name": "Python 3",
   "language": "python",
   "name": "python3"
  },
  "language_info": {
   "codemirror_mode": {
    "name": "ipython",
    "version": 3
   },
   "file_extension": ".py",
   "mimetype": "text/x-python",
   "name": "python",
   "nbconvert_exporter": "python",
   "pygments_lexer": "ipython3",
   "version": "3.5.2"
  }
 },
 "nbformat": 4,
 "nbformat_minor": 2
}
